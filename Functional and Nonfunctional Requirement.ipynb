{
 "cells": [
  {
   "cell_type": "code",
   "execution_count": 1,
   "id": "7389b56d",
   "metadata": {},
   "outputs": [],
   "source": [
    "import numpy as np\n",
    "import pandas as pd\n",
    "import re\n",
    "\n",
    "import nltk\n",
    "import sklearn\n",
    "import matplotlib\n",
    "import matplotlib.pyplot as plt\n",
    "import plotly.express as px\n",
    "\n",
    "import sklearn.metrics\n",
    "from nltk.corpus import stopwords\n",
    "from nltk.stem.porter import PorterStemmer\n",
    "\n",
    "from sklearn.feature_extraction.text import TfidfVectorizer\n",
    "\n",
    "from sklearn.model_selection import train_test_split\n",
    "from sklearn.linear_model import LogisticRegression\n",
    "from sklearn.naive_bayes import MultinomialNB\n",
    "from sklearn.tree import DecisionTreeClassifier\n",
    "from sklearn.linear_model import PassiveAggressiveClassifier\n",
    "from sklearn.svm import OneClassSVM\n",
    "from sklearn.svm import SVC\n",
    "from sklearn.ensemble import RandomForestClassifier\n",
    "from sklearn.metrics import accuracy_score\n",
    "\n",
    "\n",
    "from sklearn.metrics import classification_report,accuracy_score\n",
    "from sklearn.metrics import confusion_matrix\n",
    "from sklearn.metrics import plot_confusion_matrix\n",
    "from sklearn.metrics import precision_score\n",
    "\n",
    "from nltk.sentiment.vader import SentimentIntensityAnalyzer\n",
    "from sklearn.model_selection import train_test_split\n",
    "\n",
    "\n",
    "\n"
   ]
  },
  {
   "cell_type": "code",
   "execution_count": 4,
   "id": "90b724b7",
   "metadata": {},
   "outputs": [],
   "source": [
    "df = pd.read_csv('Data_Set.csv')"
   ]
  },
  {
   "cell_type": "code",
   "execution_count": 5,
   "id": "ee3583da",
   "metadata": {},
   "outputs": [
    {
     "data": {
      "text/html": [
       "<div>\n",
       "<style scoped>\n",
       "    .dataframe tbody tr th:only-of-type {\n",
       "        vertical-align: middle;\n",
       "    }\n",
       "\n",
       "    .dataframe tbody tr th {\n",
       "        vertical-align: top;\n",
       "    }\n",
       "\n",
       "    .dataframe thead th {\n",
       "        text-align: right;\n",
       "    }\n",
       "</style>\n",
       "<table border=\"1\" class=\"dataframe\">\n",
       "  <thead>\n",
       "    <tr style=\"text-align: right;\">\n",
       "      <th></th>\n",
       "      <th>Unnamed: 0</th>\n",
       "      <th>Function</th>\n",
       "      <th>True_index</th>\n",
       "    </tr>\n",
       "  </thead>\n",
       "  <tbody>\n",
       "    <tr>\n",
       "      <th>0</th>\n",
       "      <td>0</td>\n",
       "      <td>The system shall refresh the display every 60 ...</td>\n",
       "      <td>0</td>\n",
       "    </tr>\n",
       "    <tr>\n",
       "      <th>1</th>\n",
       "      <td>1</td>\n",
       "      <td>The application shall match the color of the s...</td>\n",
       "      <td>0</td>\n",
       "    </tr>\n",
       "    <tr>\n",
       "      <th>2</th>\n",
       "      <td>2</td>\n",
       "      <td>If projected  the data must be readable.  On a...</td>\n",
       "      <td>0</td>\n",
       "    </tr>\n",
       "    <tr>\n",
       "      <th>3</th>\n",
       "      <td>3</td>\n",
       "      <td>The product shall be available during normal b...</td>\n",
       "      <td>0</td>\n",
       "    </tr>\n",
       "    <tr>\n",
       "      <th>4</th>\n",
       "      <td>4</td>\n",
       "      <td>If projected  the data must be understandable....</td>\n",
       "      <td>0</td>\n",
       "    </tr>\n",
       "  </tbody>\n",
       "</table>\n",
       "</div>"
      ],
      "text/plain": [
       "   Unnamed: 0                                           Function  True_index\n",
       "0           0  The system shall refresh the display every 60 ...           0\n",
       "1           1  The application shall match the color of the s...           0\n",
       "2           2  If projected  the data must be readable.  On a...           0\n",
       "3           3  The product shall be available during normal b...           0\n",
       "4           4  If projected  the data must be understandable....           0"
      ]
     },
     "execution_count": 5,
     "metadata": {},
     "output_type": "execute_result"
    }
   ],
   "source": [
    "df.head()"
   ]
  },
  {
   "cell_type": "code",
   "execution_count": 6,
   "id": "51cf03e8",
   "metadata": {},
   "outputs": [
    {
     "name": "stderr",
     "output_type": "stream",
     "text": [
      "[nltk_data] Downloading package stopwords to\n",
      "[nltk_data]     C:\\Users\\Test\\AppData\\Roaming\\nltk_data...\n",
      "[nltk_data]   Package stopwords is already up-to-date!\n"
     ]
    },
    {
     "data": {
      "text/plain": [
       "True"
      ]
     },
     "execution_count": 6,
     "metadata": {},
     "output_type": "execute_result"
    }
   ],
   "source": [
    "import nltk\n",
    "nltk.download('stopwords')"
   ]
  },
  {
   "cell_type": "code",
   "execution_count": 7,
   "id": "f1a73bab",
   "metadata": {},
   "outputs": [
    {
     "name": "stdout",
     "output_type": "stream",
     "text": [
      "['i', 'me', 'my', 'myself', 'we', 'our', 'ours', 'ourselves', 'you', \"you're\", \"you've\", \"you'll\", \"you'd\", 'your', 'yours', 'yourself', 'yourselves', 'he', 'him', 'his', 'himself', 'she', \"she's\", 'her', 'hers', 'herself', 'it', \"it's\", 'its', 'itself', 'they', 'them', 'their', 'theirs', 'themselves', 'what', 'which', 'who', 'whom', 'this', 'that', \"that'll\", 'these', 'those', 'am', 'is', 'are', 'was', 'were', 'be', 'been', 'being', 'have', 'has', 'had', 'having', 'do', 'does', 'did', 'doing', 'a', 'an', 'the', 'and', 'but', 'if', 'or', 'because', 'as', 'until', 'while', 'of', 'at', 'by', 'for', 'with', 'about', 'against', 'between', 'into', 'through', 'during', 'before', 'after', 'above', 'below', 'to', 'from', 'up', 'down', 'in', 'out', 'on', 'off', 'over', 'under', 'again', 'further', 'then', 'once', 'here', 'there', 'when', 'where', 'why', 'how', 'all', 'any', 'both', 'each', 'few', 'more', 'most', 'other', 'some', 'such', 'no', 'nor', 'not', 'only', 'own', 'same', 'so', 'than', 'too', 'very', 's', 't', 'can', 'will', 'just', 'don', \"don't\", 'should', \"should've\", 'now', 'd', 'll', 'm', 'o', 're', 've', 'y', 'ain', 'aren', \"aren't\", 'couldn', \"couldn't\", 'didn', \"didn't\", 'doesn', \"doesn't\", 'hadn', \"hadn't\", 'hasn', \"hasn't\", 'haven', \"haven't\", 'isn', \"isn't\", 'ma', 'mightn', \"mightn't\", 'mustn', \"mustn't\", 'needn', \"needn't\", 'shan', \"shan't\", 'shouldn', \"shouldn't\", 'wasn', \"wasn't\", 'weren', \"weren't\", 'won', \"won't\", 'wouldn', \"wouldn't\"]\n"
     ]
    }
   ],
   "source": [
    "#Stopwords Collection depicting all the common and redundant words that are not significant and can be removed\n",
    "print(stopwords.words('english'))"
   ]
  },
  {
   "cell_type": "code",
   "execution_count": 8,
   "id": "6f58fb94",
   "metadata": {},
   "outputs": [
    {
     "data": {
      "text/plain": [
       "(625, 3)"
      ]
     },
     "execution_count": 8,
     "metadata": {},
     "output_type": "execute_result"
    }
   ],
   "source": [
    "df.shape"
   ]
  },
  {
   "cell_type": "code",
   "execution_count": 9,
   "id": "89f42b50",
   "metadata": {},
   "outputs": [
    {
     "data": {
      "text/plain": [
       "Unnamed: 0    0\n",
       "Function      0\n",
       "True_index    0\n",
       "dtype: int64"
      ]
     },
     "execution_count": 9,
     "metadata": {},
     "output_type": "execute_result"
    }
   ],
   "source": [
    "# counting null values\n",
    "df.isnull().sum()"
   ]
  },
  {
   "cell_type": "code",
   "execution_count": 10,
   "id": "dea82352",
   "metadata": {},
   "outputs": [],
   "source": [
    "#Remove the Unnamed Title\n",
    "feature_dropped=['Unnamed: 0']\n",
    "df = df.drop(feature_dropped, axis =1)"
   ]
  },
  {
   "cell_type": "code",
   "execution_count": 11,
   "id": "a7c890d4",
   "metadata": {},
   "outputs": [
    {
     "data": {
      "text/html": [
       "<div>\n",
       "<style scoped>\n",
       "    .dataframe tbody tr th:only-of-type {\n",
       "        vertical-align: middle;\n",
       "    }\n",
       "\n",
       "    .dataframe tbody tr th {\n",
       "        vertical-align: top;\n",
       "    }\n",
       "\n",
       "    .dataframe thead th {\n",
       "        text-align: right;\n",
       "    }\n",
       "</style>\n",
       "<table border=\"1\" class=\"dataframe\">\n",
       "  <thead>\n",
       "    <tr style=\"text-align: right;\">\n",
       "      <th></th>\n",
       "      <th>Function</th>\n",
       "      <th>True_index</th>\n",
       "    </tr>\n",
       "  </thead>\n",
       "  <tbody>\n",
       "    <tr>\n",
       "      <th>0</th>\n",
       "      <td>The system shall refresh the display every 60 ...</td>\n",
       "      <td>0</td>\n",
       "    </tr>\n",
       "    <tr>\n",
       "      <th>1</th>\n",
       "      <td>The application shall match the color of the s...</td>\n",
       "      <td>0</td>\n",
       "    </tr>\n",
       "    <tr>\n",
       "      <th>2</th>\n",
       "      <td>If projected  the data must be readable.  On a...</td>\n",
       "      <td>0</td>\n",
       "    </tr>\n",
       "    <tr>\n",
       "      <th>3</th>\n",
       "      <td>The product shall be available during normal b...</td>\n",
       "      <td>0</td>\n",
       "    </tr>\n",
       "    <tr>\n",
       "      <th>4</th>\n",
       "      <td>If projected  the data must be understandable....</td>\n",
       "      <td>0</td>\n",
       "    </tr>\n",
       "  </tbody>\n",
       "</table>\n",
       "</div>"
      ],
      "text/plain": [
       "                                            Function  True_index\n",
       "0  The system shall refresh the display every 60 ...           0\n",
       "1  The application shall match the color of the s...           0\n",
       "2  If projected  the data must be readable.  On a...           0\n",
       "3  The product shall be available during normal b...           0\n",
       "4  If projected  the data must be understandable....           0"
      ]
     },
     "execution_count": 11,
     "metadata": {},
     "output_type": "execute_result"
    }
   ],
   "source": [
    "df.head()"
   ]
  },
  {
   "cell_type": "code",
   "execution_count": 12,
   "id": "27bc3a0e",
   "metadata": {},
   "outputs": [
    {
     "data": {
      "text/plain": [
       "Index(['Function', 'True_index'], dtype='object')"
      ]
     },
     "execution_count": 12,
     "metadata": {},
     "output_type": "execute_result"
    }
   ],
   "source": [
    "df.columns"
   ]
  },
  {
   "cell_type": "code",
   "execution_count": 13,
   "id": "165a661a",
   "metadata": {},
   "outputs": [],
   "source": [
    "# Sentiment Analysis \n",
    "analyser = SentimentIntensityAnalyzer()\n",
    "\n",
    "def sentiment_analyzer_scores(sentence):\n",
    "    score=analyser.polarity_scores(sentence)\n",
    "    #score format {'neg': 0.0, 'neu': 0.326, 'pos': 0.674, 'compound': 0.7351}\n",
    "    return(pd.Series(score)['compound'])"
   ]
  },
  {
   "cell_type": "code",
   "execution_count": 15,
   "id": "e288911b",
   "metadata": {},
   "outputs": [],
   "source": [
    "df['function_senti']=df['Function'].apply(lambda x: sentiment_analyzer_scores(x))"
   ]
  },
  {
   "cell_type": "code",
   "execution_count": 16,
   "id": "c0826be0",
   "metadata": {},
   "outputs": [],
   "source": [
    "df['Function']=df['Function']"
   ]
  },
  {
   "cell_type": "code",
   "execution_count": 18,
   "id": "880ee6cb",
   "metadata": {},
   "outputs": [
    {
     "name": "stdout",
     "output_type": "stream",
     "text": [
      "0      The system shall refresh the display every 60 ...\n",
      "1      The application shall match the color of the s...\n",
      "2      If projected  the data must be readable.  On a...\n",
      "3      The product shall be available during normal b...\n",
      "4      If projected  the data must be understandable....\n",
      "                             ...                        \n",
      "620    The Disputes application shall manipulate and ...\n",
      "621    All updates to data files or database must be ...\n",
      "622    The Disputes application must conform to the l...\n",
      "623    All business rules specified in the Disputes S...\n",
      "624    The Disputes application must conform to the l...\n",
      "Name: Function, Length: 625, dtype: object\n"
     ]
    }
   ],
   "source": [
    "print(df['Function'])"
   ]
  },
  {
   "cell_type": "code",
   "execution_count": 20,
   "id": "60a9e4e4",
   "metadata": {},
   "outputs": [],
   "source": [
    "#separating the content and label from the table\n",
    "X= df.drop(columns='True_index', axis=1 )\n",
    "Y= df['True_index']"
   ]
  },
  {
   "cell_type": "code",
   "execution_count": 21,
   "id": "42f655a8",
   "metadata": {},
   "outputs": [
    {
     "name": "stdout",
     "output_type": "stream",
     "text": [
      "                                              Function  function_senti\n",
      "0    The system shall refresh the display every 60 ...          0.0000\n",
      "1    The application shall match the color of the s...          0.3400\n",
      "2    If projected  the data must be readable.  On a...          0.0000\n",
      "3    The product shall be available during normal b...          0.0000\n",
      "4    If projected  the data must be understandable....          0.0000\n",
      "..                                                 ...             ...\n",
      "620  The Disputes application shall manipulate and ...         -0.2732\n",
      "621  All updates to data files or database must be ...         -0.2732\n",
      "622  The Disputes application must conform to the l...         -0.1531\n",
      "623  All business rules specified in the Disputes S...         -0.2732\n",
      "624  The Disputes application must conform to the l...         -0.0258\n",
      "\n",
      "[625 rows x 2 columns]\n",
      "0      0\n",
      "1      0\n",
      "2      0\n",
      "3      0\n",
      "4      0\n",
      "      ..\n",
      "620    0\n",
      "621    0\n",
      "622    0\n",
      "623    0\n",
      "624    0\n",
      "Name: True_index, Length: 625, dtype: int64\n"
     ]
    }
   ],
   "source": [
    "print(X)\n",
    "print(Y)"
   ]
  },
  {
   "cell_type": "code",
   "execution_count": 22,
   "id": "b36fce19",
   "metadata": {},
   "outputs": [],
   "source": [
    "# using PorterStemmer for stemming\n",
    "port_stem= PorterStemmer()"
   ]
  },
  {
   "cell_type": "code",
   "execution_count": 27,
   "id": "6af454f6",
   "metadata": {},
   "outputs": [],
   "source": [
    "def stemming(Function):\n",
    "  stemmed_Function= re.sub('[^a-zA-Z]',' ', Function)  # for removing non-alphabetical non-significant characters\n",
    "  stemmed_Function= stemmed_Function.lower() #converting entire text to lower case \n",
    "  stemmed_Function= stemmed_Function.split() #splitting text into list\n",
    "  stemmed_Function= [port_stem.stem(word) for word in stemmed_Function if not word in stopwords.words('english')] # performing stemming for every word except the stopwords\n",
    "  stemmed_Function= ' '.join(stemmed_Function) #joining again to string after stemming\n",
    "  return stemmed_Function"
   ]
  },
  {
   "cell_type": "code",
   "execution_count": 28,
   "id": "6c1962ef",
   "metadata": {},
   "outputs": [],
   "source": [
    "df['Function']= df['Function'].apply(stemming)"
   ]
  },
  {
   "cell_type": "code",
   "execution_count": 29,
   "id": "0e708d95",
   "metadata": {},
   "outputs": [
    {
     "name": "stdout",
     "output_type": "stream",
     "text": [
      "0              system shall refresh display everi second\n",
      "1      applic shall match color schema set forth depa...\n",
      "2      project data must readabl x project screen vie...\n",
      "3      product shall avail normal busi hour long user...\n",
      "4      project data must understand x project screen ...\n",
      "                             ...                        \n",
      "620    disput applic shall manipul view busi data use...\n",
      "621     updat data file databas must initi disput system\n",
      "622    disput applic must conform legal requir specif...\n",
      "623    busi rule specifi disput system shall complian...\n",
      "624    disput applic must conform legal requir specif...\n",
      "Name: Function, Length: 625, dtype: object\n"
     ]
    }
   ],
   "source": [
    "print(df['Function'])"
   ]
  },
  {
   "cell_type": "code",
   "execution_count": 30,
   "id": "4f5dc2a5",
   "metadata": {},
   "outputs": [],
   "source": [
    " #separating content and label\n",
    " X= df['Function'].values\n",
    " Y= df['True_index'].values"
   ]
  },
  {
   "cell_type": "code",
   "execution_count": 31,
   "id": "c42bd3d3",
   "metadata": {},
   "outputs": [
    {
     "name": "stdout",
     "output_type": "stream",
     "text": [
      "['system shall refresh display everi second'\n",
      " 'applic shall match color schema set forth depart homeland secur'\n",
      " 'project data must readabl x project screen viewer must abl read event activ data view distanc'\n",
      " 'product shall avail normal busi hour long user access client pc system avail time first six month oper'\n",
      " 'project data must understand x project screen viewer must abl determin event activ occur current time view distanc'\n",
      " 'product shall ensur access author user product abl distinguish author unauthor user access attempt'\n",
      " 'product shall intuit self explanatori'\n",
      " 'product shall respond fast keep date data display'\n",
      " 'system shall mdi form allow view graph data tabl'\n",
      " 'system shall display event vertic tabl time'\n",
      " 'system shall display event graph time'\n",
      " 'busi rule specifi disput system shall complianc guidelin regul e regul z'\n",
      " 'disput applic must maintain detail histori everi action user take disput case ensur complet audit trail question aris later regard particular disput case'\n",
      " 'action modifi exist disput case must record case histori'\n",
      " 'disput system must access intern extern user'\n",
      " 'disput system must prevent user access disput case belong cardhold base'\n",
      " 'disput system facilit direct data entri disput case via user interfac support real time respons user'\n",
      " 'disput system must provid differ level access regard disput case initi follow action'\n",
      " 'disput system shall provid view access capabl author user applic'\n",
      " 'disput system shall provid updat access capabl author user applic'\n",
      " 'disput system must allow user select disput transact base age transact user interfac initi disput ticket retriev request chargeback notif select transact'\n",
      " 'disput system must provid user abil initi singl disput case multipl transact belong singl merchant'\n",
      " 'disput system provid user abil creat initi ticket retriev request part ticket retriev creation process system must prompt user enter requir inform creat ticket retriev request ticket retriev request document sent merchant inquir valid transact'\n",
      " 'disput system must allow user creat three uniqu type ticket retriev request three type ticket retriev request request origin receipt request copi receipt request portfolio portfolio consist document would provid proof purchas document receiv car rental agenc sale receipt'\n",
      " 'disput system must prevent extern user request origin receipt request origin receipt restrict intern user'\n",
      " 'disput system must provid confirm user upon creation ticket retriev request contain follow inform disput case number type retriev request copi origin portfolio date merchant respons due'\n",
      " 'disput system shall allow user creat initi chargeback request system must prompt user enter requir inform initi chargeback request chargeback request result print chargeback notif sent merchant indic account charg back proof provid disput transact valid'\n",
      " 'disput system must provid confirm user upon creation chargeback request confirm must contain follow inform disput case number type chargeback request pend immedi date merchant respons due'\n",
      " 'disput system shall prevent creation duplic disput request time'\n",
      " 'disput system shall accur provid list possibl reason code given transact list possibl reason code must deriv base type transact industri merchant belong accord busi rule defin disput system'\n",
      " 'disput system must provid abil view exist disput case'\n",
      " 'disput system must provid search function search method must includ abil search disput case number merchant account number cardmemb account number issuer number addit criteria search function must allow user limit result search date rang type disput ticket retriev request chargeback notif case statu open close disput reason code'\n",
      " 'list disput case meet enter search criteria must provid user list case must differenti type statu case color code line item list exampl open case yellow close case gray'\n",
      " 'disput system shall provid user abil view histori activ occur disput case'\n",
      " 'disput system shall provid user abil follow disput case via follow action list avail follow action given disput case must filter statu case access level user'\n",
      " 'disput system shall record name user date activ creat modifi disput case system detail histori action taken case includ date user perform action must maintain audit purpos'\n",
      " 'systemat non user initi action occur case disput age process case activ gener upon next logon user initi disput case must notifi systemat action occur disput case'\n",
      " 'letter request must format accord guidelin specifi print letter util system'\n",
      " 'disput case close month must purg onlin disput databas'\n",
      " 'product must support internet explor'\n",
      " 'product must support mozilla firefox'\n",
      " 'product shall interfac choic part system provid feed recycl part data'\n",
      " 'product shall run exist hardwar environ'\n",
      " 'product shall adher corpor architectur guidelin'\n",
      " 'product shall compli corpor user interfac guidelin'\n",
      " 'product shall compli corpor color scheme'\n",
      " 'appear product shall appear profession'\n",
      " 'product shall easi use adjust collis estim adjust collis estim shall find product easi use'\n",
      " 'product shall increas product collis estim collis estim shall agre product increas within month use product'\n",
      " 'user shall feel satisfi use product user satisfi product'\n",
      " 'product shall easi learn adjust collis estim product shall learn two day onsit train'\n",
      " 'user shall easili locat instruct use product user help found within system'\n",
      " 'search recycl part shall take longer second search result shall return second'\n",
      " 'search prefer repair facil shall take longer second prefer repair facil return within second'\n",
      " 'recycl part audit report shall return user within second audit report shall return within second'\n",
      " 'prefer repair facil rate shall save within second save shall occur within second'\n",
      " 'product shall adher corpor onlin avail schedul applic brought within schedul outag per avail schedul'\n",
      " 'product shall achiev uptim product shall fail avail onlin time'\n",
      " 'product shall abl handl simultan user system shall perform user time'\n",
      " 'averag number recycl part record per day shall'\n",
      " 'product shall abl handl concurr user within year initi launch'\n",
      " 'estim product shall abl oper repair facil dirti noisi condit'\n",
      " 'product shall interfac choicepart system per day approxim'\n",
      " 'mainten product fall within establish corpor mainten window'\n",
      " 'product shall support use corpor support center'\n",
      " 'product instal upgrad shall handl middlewar technolog team within establish launch time frame'\n",
      " 'adjust request recycl part audit report user without adjust role shall request recycl part audit'\n",
      " 'adjust supervisor role updat prefer repair facil rate user without supervisor role cannot access repair facil rate'\n",
      " 'collis estim shall search recycl part user without collis estim role shall access search recycl part'\n",
      " 'valid data shall enter system invalid data shall enter system'\n",
      " 'one insur compani shall abl view anoth insur compani claim data'\n",
      " 'product shall free comput virus'\n",
      " 'system shall prevent malici attack includ denial servic'\n",
      " 'product must compli sarban oxley'\n",
      " 'product shall compli estimat law relat recycl part usag'\n",
      " 'product shall compli insur regul regard claim process'\n",
      " 'user shall search prefer repair facil use vehicl data vehicl locat radiu mile'\n",
      " 'vehicl data shall includ vehicl year make model'\n",
      " 'vehicl locat shall includ street address citi state zipcod'\n",
      " 'system shall resolv zipcod street address citi state zipcod unknown'\n",
      " 'search radiu shall mile'\n",
      " 'system shall locat prefer repair facil highest rate input criteria'\n",
      " 'adjust shall enter prefer repair facil estim assign'\n",
      " 'adjust shall abl overrid prefer repair facitl estim assign'\n",
      " 'prefer repair facil shall return user'\n",
      " 'system shall return list repair facil within radiu prefer repair facil cannot determin'\n",
      " 'estim shall search avail recycl part use damag vehicl part inform'\n",
      " 'estim shall search avail recycl part use list prefer part supplier'\n",
      " 'system shall search avail recycl part suppli vehicl part supplier'\n",
      " 'estim shall search zipcod radiu mile part found prefer part supplier'\n",
      " 'system shall retain avail recycl part supplier return search'\n",
      " 'avail recycl part inform supplier shall return user'\n",
      " 'estim shall appli select recycl part collis estim'\n",
      " 'estim shall appli recycl part collis estim avail part return'\n",
      " 'adjust shall review collis estim'\n",
      " 'adjust shall request recycl part audit collis estim'\n",
      " 'recycl part search result provid estim shall retriev system'\n",
      " 'system shall gener audit report base avail recycl part collis estim'\n",
      " 'audit report shall includ total number recycl part use estim'\n",
      " 'audit report shall includ number avail recycl part origin search result'\n",
      " 'audit report shall includ percentag avail recycl part use estim'\n",
      " 'audit report shall includ total score audit sum indivu line item'\n",
      " 'audit report shall display user'\n",
      " 'audit report shall avail adjust later point time'\n",
      " 'user shall select view prefer repair facil rate'\n",
      " 'current repair facil rate shall display user'\n",
      " 'system display blank set rate rate yet defin'\n",
      " 'user shall enter new rate base audit report' 'rate shall scale'\n",
      " 'rate shall includ categori attempt use recycl part actual use recycl part'\n",
      " 'user shall select save prefer repair facil rate'\n",
      " 'prefer repair facil rate shall save system'\n",
      " 'product must work databas manag system dbm market whether dbm coloc product machin locat differ machin comput network'\n",
      " 'product function alongsid server softwar oper system java runtim instal'\n",
      " 'product requir collabor databas manag system dbm dbm may locat machin product separ machin resid comput network'\n",
      " 'product must make use web applic server technolog open sourc exampl includ apach web server tomcat jboss applic server'\n",
      " 'databas manag system oracl db mysql hsql need integr product'\n",
      " 'product look feel shall abl incorpor aspect custom organ logo brand ident'\n",
      " 'product shall conserv profession appear'\n",
      " 'product shall make user want use user survey report regularli use product first week post launch'\n",
      " 'product shall easi use user abl success reserv confer room within minut product use'\n",
      " 'product shall give user feedback necessari user survey report product accur confirm action'\n",
      " 'product shall allow user select chosen languag one target market countri'\n",
      " 'product shall allow custom start page view prefer'\n",
      " 'employe abl success use product within minut inform navig product less minut user shall abl success setup meet reserv confer room'\n",
      " 'product shall use standard navig menu familiar web user'\n",
      " 'product shall allow intuit search avail confer room'\n",
      " 'product shall conform american disabl act'\n",
      " 'respons shall fast enough avoid interrupt user flow thought task shall complet within second task shall complet within second'\n",
      " 'asid server failur softwar product shall achiev time'\n",
      " 'product shall creat except log problem encount within product transmiss compani analysi resolut'\n",
      " 'product shall capabl handl concurr request number increas releas concurr capac must abl handl peak schedul time earli morn late afternoon hour'\n",
      " 'product shall abl process transact per hour within two year launch number increas releas'\n",
      " 'product shall expect oper least year custom instal'\n",
      " 'product shall use offic environ'\n",
      " 'product must abl interfac html browser product shall transmit data user product without problem product shall display html properli html browser test minimum test browser'\n",
      " 'product must abl interfac variou databas manag system product shall commun success databas manag system transact'\n",
      " 'product must abl interfac variou email server product shall abl send email'\n",
      " 'product shall avail distribut via internet binari zip file'\n",
      " 'product shall avail distribut packag cd'\n",
      " 'product avail licens one server two five server five server licens'\n",
      " 'new user must abl ad system within minut new user abl log system within minut'\n",
      " 'product must design use design pattern code best practic mainten softwar develop abl integr new function product work day'\n",
      " 'product must highli configur use variou databas manag system end user end user abl integr new databas manag system product without chang product softwar code'\n",
      " 'mainten releas offer custom year releas shall take longer minut custom base instal'\n",
      " 'everi regist user access product support site via internet regist user shall find solut problem within minut use support site'\n",
      " 'custom shall abl easili integr new build map product throughout product lifecycl integr new map product shall possibl littl support product support staff'\n",
      " 'product shall translat foreign languag target market countri languag futur releas emerg target market shall take day configur product market languag'\n",
      " 'product expect integr multipl databas manag system product oper oracl sql server db mysql hsql ms access'\n",
      " 'product shall abl instal oper environ within day'\n",
      " 'product shall ensur compani employe extern user compani approv user id may product access logon shall either compani employe extern user compani approv user id'\n",
      " 'manag abl perform search queri reserv user search queri reserv user shall logon manag logon'\n",
      " 'product shall ensur databas data correspond data enter user confer room reserv system contain inform enter user'\n",
      " 'product shall prevent input malici data product adjac hardwar softwar system data shall remain uncorrupt time malici data input product'\n",
      " 'product depend databas filesystem shall remain oper result input malici data product depend databas filesystem shall crash time malici data input product'\n",
      " 'product shall abil receiv automat softwar updat new threat emerg custom abl receiv automat softwar updat transmit instal product'\n",
      " 'languag product shall accommod target market countri survey respond target market countri find languag product accept'\n",
      " 'product shall abl display calendar date time accord user local survey respond target market countri find date time format product correct'\n",
      " 'product must develop j se j ee program languag librari'\n",
      " 'product shall record meet entri' 'product notifi employe meet invit'\n",
      " 'product shall abil send meet remind employe'\n",
      " 'product shall assign organ contact inform meet creat'\n",
      " 'product record meet acknowledg' 'product shall store new confer room'\n",
      " 'product shall updat exist confer room' 'product abl delet confer room'\n",
      " 'product shall abl store new room equip' 'product updat exist room equip'\n",
      " 'product shall abl delet room equip'\n",
      " 'product shall allow organ invit employe meet'\n",
      " 'time confer room reserv confer room schedul shall updat reflect time date reserv'\n",
      " 'product shall record transport statu equip reserv'\n",
      " 'product shall display map compani build show confer room locat'\n",
      " 'product shall record updat meet agenda'\n",
      " 'product shall send meet confirm meet organ'\n",
      " 'product shall display room equip accord search paramet'\n",
      " 'product shall display confer room accord search paramet'\n",
      " 'product shall record differ meet type'\n",
      " 'product shall record equip reserv'\n",
      " 'product shall notifi build personnel equip transport request'\n",
      " 'product allow priviledg user view meet schedul multipl report view'\n",
      " 'product shall abl send meet notif via differ kind end user specifi method'\n",
      " 'product shall customiz look feel' 'product shall intuit user interfac'\n",
      " 'product display avail statu unreserv confer room'\n",
      " 'recreat inventori quantiti adjust period previou day shall take min'\n",
      " 'system shall allow minimum user work time'\n",
      " 'system shall util current own comput equip'\n",
      " 'system shall abl automat backup busi data restor demand'\n",
      " 'system shall maintain consist secur chang user password permiss take affect part system'\n",
      " 'system shall granularli control access right major subsystem possibl assign access right subsystem independ'\n",
      " 'system shall meet applic account standard final version system must success pass independ audit perform certifi auditor'\n",
      " 'system shall requir addit third parti licens result royalti fee'\n",
      " 'system shall allow gener inventori quantiti adjust document demand'\n",
      " 'system shall allow demand gener inventori quantiti adjust document sinc certain point time'\n",
      " 'iqa subsystem shall take account current inventori statu adjust inventori substitutionari ingredi accordingli'\n",
      " 'system shall allow enter store modifi product formula'\n",
      " 'product formula shall allow use semi product formula'\n",
      " 'product formula ingredi shall allow defin substitutionari ingredi'\n",
      " 'product formula substitutionari ingredi shall enter automat pfe subsystem'\n",
      " 'formula substitutionari ingredi shall kept persist order'\n",
      " 'product shall allow enter store modifi product menu use po termin'\n",
      " 'pme subsystem shall allow build product menu base list product kept account system'\n",
      " 'pme subsystem shall allow keep submenu within menu product within submenu manag persist order'\n",
      " 'pme subsystem shall allow product exist one submenu'\n",
      " 'rm system shall window xp look feel use gui futur make use intuit'\n",
      " 'system shall gener inventori quantiti adjust document base product daili sale data product formula'\n",
      " 'system shall gener inventori quantiti adjust document automat daili product sale data avail'\n",
      " 'administr shall abl activ pre paid card via administr section second'\n",
      " 'custom shall abl check statu prepaid card enter pin number second'\n",
      " 'system shall let custom regist websit pay go user minut'\n",
      " 'system shall let custom regist websit unlimit movi subscrib user minut'\n",
      " 'system shall let exist custom log websit email address password second'\n",
      " 'system shall let custom cancel account process shall take longer minut databas mark account inact user abl log websit'\n",
      " 'system shall let administr de activ custom account minut custom longer abl access websit'\n",
      " 'system shall let administr add remov movi websit minut enter movi inform store databas avail websit'\n",
      " 'system shall let administr add remov categori websit minut'\n",
      " 'system shall let izogn manag access sale usag statist minut'\n",
      " 'system shall let administr gener uniqu pre paid pin minut gener excel file gener pin'\n",
      " 'websit shall attract audienc websit shall appear fun color bright vibrant'\n",
      " 'websit african feel alien non african websit use anim page describ servic grab user attent encourag sign'\n",
      " 'websit design modern clean concis' 'product abl use novic user internet'\n",
      " 'user navig maximum page creat account websit'\n",
      " 'user abl access stream movi click log websit'\n",
      " 'anonym survey show custom comfort purchas stream movi week use websit'\n",
      " 'anonym survey show custom comfort use purchas pre paid card month use system'\n",
      " 'product shall retain custom buy prefer inform'\n",
      " 'product shall easi custom novic skill internet purchas watch stream movi custom abl purchas watch pre determin movi minut'\n",
      " 'product shall use symbol word natur understand user familiar websit'\n",
      " 'websit use standard internet convent interact user'\n",
      " 'interfac user autom system shall maximum respons time second unless note except'\n",
      " 'purchas stream movi pre paid card via credit card process time maximum respons time second'\n",
      " 'stream movi buffer time take longer second plu latenc user connect'\n",
      " 'stream movi buffer occur latenc user connect'\n",
      " 'credit card inform secur server access author izogn administr inform encrypt databas'\n",
      " 'websit shall avail use hour per day day per year'\n",
      " 'websit shall achiev time' 'movi shall stream demand time day'\n",
      " 'websit shall continu oper stream server goe'\n",
      " 'websit shall continu oper payment gateway goe'\n",
      " 'stream server support simultan stream connect'\n",
      " 'stream server support maximum movi new server ad support movi'\n",
      " 'server support maximum simultan user'\n",
      " 'websit shall capabl support custom'\n",
      " 'product shall expect oper within maximum mainten budget minimum year'\n",
      " 'aspect websit shall access web browser internet'\n",
      " 'hardwar support current websit use support new system'\n",
      " 'must abl interfac follow browser'\n",
      " 'websit must interfac cybersourc api process credit card transact'\n",
      " 'websit must fulli oper msn tv'\n",
      " 'movi shall encod stream via window media player'\n",
      " 'movi shall encod k k stream' 'promot updat websit take day updat'\n",
      " 'izogn administr must abl updat categori list websit within minut'\n",
      " 'izogn administr must abl add new product websit within minut'\n",
      " 'system provid hour toll free number support custom'\n",
      " 'websit provid help section answer solut common problem'\n",
      " 'velkat staff avail phone support pm f provid technic support izogn administr'\n",
      " 'product shall abl instal specifi environ within work day'\n",
      " 'regist custom purchas stream movi'\n",
      " 'custom stream movi purchas within day view period'\n",
      " 'author personnel access custom record databas'\n",
      " 'administr activ pre paid card' 'author personnel access sale inform'\n",
      " 'websit shall prevent data corrupt incorrect data enter'\n",
      " 'websit shall protect intent abus notifi administr occurr'\n",
      " 'data integr script run weekli basi verifi integr databas'\n",
      " 'websit shall make user awar inform practic collect data via privaci polici access page websit'\n",
      " 'system shall notifi custom chang inform polici'\n",
      " 'system shall reveal privat inform complianc organ inform polici'\n",
      " 'custom inform store secur databas access author personnel'\n",
      " 'credit card inform encrypt databas'\n",
      " 'stream server anti viru softwar prevent infect malici virus'\n",
      " 'websit cater tribe nigeria' 'websit shall offens religi ethnic group'\n",
      " 'websit appeal african nigerian' 'websit use flash provid anim home page'\n",
      " 'izognmovi shall meet licens requir set forth appropri organ order stream african movi'\n",
      " 'websit compli w c standard' 'php code compli pear standard'\n",
      " 'websit allow custom search movi titl actor director'\n",
      " 'view movi detail websit display movi descript actor director enter administr'\n",
      " 'websit shall request author credit card payment allow user stream movi'\n",
      " 'shall abl stream purchas movi via window media player day after purchas date'\n",
      " 'websit shall allow custom brows movi categori enter izogn administr'\n",
      " 'websit shall allow custom view review select movi custom'\n",
      " 'websit shall allow custom add movi review select movi'\n",
      " 'websit shall allow izogn administr approv review post custom'\n",
      " 'system allow custom pay stream movi pre paid card'\n",
      " 'websit shall allow custom purchas pre paid card valu either credit card mail payment option'\n",
      " 'system shall automat updat main page websit everi friday show latest movi ad websit'\n",
      " 'system shall allow user updat bill contact inform via account section websit'\n",
      " 'pre paid card shall distribut via email via print paper card'\n",
      " 'regist custom purchas stream movi'\n",
      " 'movi stream custom purchas movi within day time period stream movi'\n",
      " 'websit must abl support free trial period variou paramet set izogn manag'\n",
      " 'stream movi sale log databas access administr'\n",
      " 'regist custom inform shall store maintain databas even custom cancel account'\n",
      " 'daili usag statist log access administr'\n",
      " 'owner shall free access stream movi'\n",
      " 'total lead cycl time must complet minut lead volum busi hour cst pm cst minut lead volum busi hour'\n",
      " 'lead evalu complet time period longer second lead process'\n",
      " 'lead process longer second system record event durat'\n",
      " 'process must fit within process time condit set forth auto rep assign process lead assign within minut total life cycl'\n",
      " 'lead wash process oper within establish physic web servic structur'\n",
      " 'wash process must use non bind neutral data format xml receiv process lead data'\n",
      " 'defect report avail technic unit x basi'\n",
      " 'wash paramet updat schedul mainten hour' 'vendor verifi invalid lead'\n",
      " 'vendor submit credit valid record appli enterpris bill system'\n",
      " 'lead score high rang system suppli lead data score enterpris system'\n",
      " 'lead wash function valid lead receiv web servic valid data'\n",
      " 'lead wash function insert lead captur web servic'\n",
      " 'lead score fall within high averag score process ara function'\n",
      " 'lead score fall within medium averag set manual verif enrol coordin elead system'\n",
      " 'lead score fall within low averag return suppli vendor'\n",
      " 'lead wash function compil contact academ score inform total score'\n",
      " 'lead wash function use paramet suppli corpor school score part lead'\n",
      " 'lead wash function return lead data suppli vendor along reason reject'\n",
      " 'lead wash function interfac lead data paramet maintain'\n",
      " 'lead wash function verifi user authent right make paramet updat'\n",
      " 'lead wash function store potenti lead duplic return enterpris system'\n",
      " 'prior submit lead enterpris system lead wash function assign lead admiss rep'\n",
      " 'lead wash function shall receiv period list avail rep enterpris system'\n",
      " 'product shall simul look ship sea'\n",
      " 'product shall display grid within circl view periscop'\n",
      " 'product shall display type ship grid use imag specif type ship'\n",
      " 'offens player take shot product shall simul sound ship sea'\n",
      " 'shot mark miss product shall simul sound shot miss target'\n",
      " 'shot mark hit product shall simul sound shot hit target'\n",
      " 'ship sunk product shall simul sound sink ship'\n",
      " 'product shall avail hour per day seven day per week'\n",
      " 'product shall abl handl larg number game simultan'\n",
      " 'respons time shall fast enough maintain flow game respons time shall second respons remain respons'\n",
      " 'product shall protect ident player product shall provid player access inform might reveal ident anoth player'\n",
      " 'product shall intuit self explanatori nine ten user shall abl success complet game train'\n",
      " 'product shall avail player understand english spanish french product shall allow user select languag upon access product'\n",
      " 'product shall provid player access inform might reveal ident anoth player'\n",
      " 'respons time shall fast enough maintain flow game respons time shall second respons remain respons'\n",
      " 'product shall maintain list player'\n",
      " 'product shall allow user identifi player'\n",
      " 'game initi product shall make player assign game unavail select list player'\n",
      " 'product shall allow user remov list player time'\n",
      " 'product shall make inact player unavail select list player'\n",
      " 'product shall remov player inact hour list player'\n",
      " 'product shall allow player initi game select anoth avail player list player'\n",
      " 'game initi product shall display defens grid player'\n",
      " 'game initi product shall display offens grid player'\n",
      " 'product shall prevent player view offens defens grid player'\n",
      " 'game initi product shall allow player posit ship respect defens grid'\n",
      " 'product shall allow player posit ship horizont grid'\n",
      " 'product shall allow player posit ship vertic grid'\n",
      " 'product shall allow player posit ship diagon grid'\n",
      " 'product shall prevent player overlap ship grid'\n",
      " 'player posit ship defens grid product shall defin statu player first turn'\n",
      " 'turn product shall identifi one player offens statu one player defens statu'\n",
      " 'product shall maintain statu player turn either offens defens'\n",
      " 'start turn product shall notifi player statu'\n",
      " 'turn product shall allow offens player defin shot'\n",
      " 'shot product shall examin defens grid defens player determin whether shot hit miss'\n",
      " 'shot product shall notifi player whether shot hit miss'\n",
      " 'shot product shall mark shot hit miss defens grid defens player'\n",
      " 'shot product shall mark shot hit miss offens grid offens player'\n",
      " 'hit result sink ship product shall notifi player ship sunk'\n",
      " 'hit result sink ship product shall mark ship sunk defens grid defens player'\n",
      " 'hit result sink ship product shall indic type ship sunk defens grid defens player'\n",
      " 'hit result sink ship product shall mark ship sunk offens grid offens player'\n",
      " 'shot mark hit product shall allow offens player defin shot'\n",
      " 'shot mark miss product shall chang statu offens player defens'\n",
      " 'shot mark miss product shall chang statu defens player offens'\n",
      " 'product shall continu assign turn game end'\n",
      " 'product shall end game hit offens player result sink last defens player ship previous mark sunk'\n",
      " 'product shall allow player end game time game'\n",
      " 'game end product shall notifi player game end'\n",
      " 'notif game end includ reason game end e player game player end game'\n",
      " 'game end product shall allow player identifi avail player list player'\n",
      " 'game end product shall allow player remov list player'\n",
      " 'system shall easi use caller supervisor caller supervisor must abl accomplish system task within minut'\n",
      " 'system shall easi learn caller supervisor caller supervisor shall learn use system within minut'\n",
      " 'system shall respons depaul teleservic center supervisor use system view caller schedul system respons time must second time second rest time'\n",
      " 'k connect system respons time oper must second time'\n",
      " 'k connect faster system respons time oper must second time'\n",
      " 'system shall high avail everi day year system must avail use'\n",
      " 'system must avail use'\n",
      " 'product shall internet browser independ product must run use internet explor netscap navig'\n",
      " 'product shall ensur supervisor advertis empti time slot product must ensur supervisor allow access advertis empti time slot'\n",
      " 'product shall ensur supervisor enter caller schedul product must ensur supervisor allow access advertis empti time slot'\n",
      " 'product shall ensur supervisor view schedul caller product must ensur supervisor allow access advertis empti time slot'\n",
      " 'interfac shall simpl look interfac usabl survey beta tester must report interfac adequ simpl'\n",
      " 'interfac shall appeal caller supervisor interfac usabl survey beta tester must report interfac appeal'\n",
      " 'product shall provid gui base monitor servic system administr shall monitor messag exchang predict determin problem also provid intern extern support'\n",
      " 'product shall compli citi chicago applic develop guid framework applic develop framework provid structur graphic user interfac'\n",
      " 'product shall provid monitor servic product shall easi system administr dba use two week usag'\n",
      " 'product shall provid error track servic product shall help system administr dba resolv transact error time'\n",
      " 'product shall provid portal product shall help system administr analyz transact ad hoc report kpi key perform indic'\n",
      " 'product shall provid asynchron messag product shall provid asynchron messag enabl parallel process reduc overhead commun'\n",
      " 'product shall provid multi thread load balanc product shall provid multi thread technolog well load balanc overcom data load spike traffic'\n",
      " 'product shall process messag within second product shall maximum messag process time second'\n",
      " 'product shall poll system messag everi second product shall poll system new messag maximum everi second'\n",
      " 'product shall provid dynam chang support transpar resourc addit product shall support transpar resourc addit dynam chang support provid scalabl avoid servic interrupt day'\n",
      " 'product shall avail time rational'\n",
      " 'product shall robust product shall fault avoid base standard adopt'\n",
      " 'product shall robust fault toler product shall fault toler use recoveri techniqu compensatori transact rout around failur'\n",
      " 'product shall abl process transact product shall process minimum million transact per year'\n",
      " 'product shall platform independ product shall enabl access type develop environ platform'\n",
      " 'product shall interfac csr datastream product shall exchang messag csr eam real time basi without direct interfac two system'\n",
      " 'product shall continu oper upgrad chang new resourc addit product shall abl continu oper interrupt servic due new resourc addit'\n",
      " 'product shall updat regular basi product new major featur introduc everi six month quarterli mainten releas everi six month'\n",
      " 'product shall oper everi platform product shall accommod new technolog without chang architectur'\n",
      " 'product shall secur product shall provid authent author'\n",
      " 'product shall inform secur product shall enabl privaci encrypt ws secur integr check'\n",
      " 'product shall audit capabl product shall store messag minimum one year audit transact track purpos'\n",
      " 'system shall use ibm ccr brand standard interfac must one ibm logo one ccr logo'\n",
      " 'system shall display work comput ccr user may system interfac shall format display pixel resolut'\n",
      " 'system interfac use ccr nomenclatur system must use nomenclatur use exist wc system report'\n",
      " 'interfac must summar data fashion appeal ccr manag everi report type must least one high level summari shown result dashboard interfac'\n",
      " 'system must use point click interfac select navig function must abl activ select either mous keyboard'\n",
      " 'interfac shall easi use user abl success use system gener report first use interfac adher ibm usabl standard'\n",
      " 'rreport must easi gener eport must gener within one button click export within one button click select report'\n",
      " 'user shall abl use system without instruct short amount time one use user understand rememb system usag navig'\n",
      " 'ccr user shall receiv train wc system deploy one train session held ccr user system deploy base ccr user avail'\n",
      " 'wc system shall use appropri nomenclatur terminolog defin corpor commun grant organ interfac report undergo usabl test ccr user'\n",
      " 'wc system shall avail time long ibm intern intranet w access wc system avail time ibm intern intranet w avail'\n",
      " 'wc system shall abil connect design wc databas current includ system'\n",
      " 'wc system shall abil includ data region outsid unit state access user outsid unit state approv ccr manag'\n",
      " 'wc system shall run window environ wc shall access user internet ibm comput run window oper system'\n",
      " 'brio portion wc system must abl export file spreadsheet form microsoft excel lotu format brio provid button user interfac produc export report xl file format'\n",
      " 'wc system must run queri wc databas specifi day updat avail data avail ccr user queri must made extern databas data refresh week'\n",
      " 'chang updat addit wc system shall updat wc develop wc user guid everi chang must reflect wc system document'\n",
      " 'system shall access author corpor commun grant ccr employe user must authent use ibm intranet user name password'\n",
      " 'wc system shall allow automat login user cooki contain wc login inform user store user comput'\n",
      " 'team owner need use usernam password order authent reach team owner page'\n",
      " 'commission author user per leagu adjust leagu set'\n",
      " 'page shall contain navig menu show index current page contain'\n",
      " 'page shall contain similar format action item one locat navig button differ locat'\n",
      " 'messag board shall contain recent post messag leagu page messag contain first charact messag'\n",
      " 'new user shall abl navig leagu team page within second reach start page'\n",
      " 'user shall abl reach add drop trade player page one click team owner page'\n",
      " 'user shall abl view least nfl player statist point page'\n",
      " 'applic shall ask user confirm drop player trade player perform action'\n",
      " 'applic shall abl complet everi user transact within one fourth second receiv request network'\n",
      " 'applic shall downtim minut per year'\n",
      " 'applic shall run web applic server'\n",
      " 'primari databas use store cach data activ user'\n",
      " 'secondari databas use store histor statist data'\n",
      " 'applic updat shall occur cst wednesday morn middl nfl season'\n",
      " 'new system version releas shall releas begin nfl season'\n",
      " 'rf system avail especi budget period rf system shall avail time year budget period time system becom avail within hour time situat report'\n",
      " 'user workstat shall meet minimum hardwar requir prior implement minimum hard disk space'\n",
      " 'user workstat shall meet minimum softwar requir prior implement'\n",
      " 'rf system abl easili interfac bdw environ order load data data file shall receiv bdw load rf system within hour one day prior start budget process everi year data octob month end test file shall load time throughout year bdw'\n",
      " 'chang revenu expens formula must appli rf system everi year prior budget process start revenu expens formula updat within one week receipt week allot test budget calcul conduct jointli project develop team pcg financ'\n",
      " 'new branch complex district region revenu expens account ad bdw must reflect rf system entiti mention avail octob month end load rf system prior budget start process'\n",
      " 'author user shall access rf system user exist ua system rf system assign role shall access rf system use'\n",
      " 'user access limit permiss grant role level pcg hierarchi assign role user assign role access function within rf system depend privileg permiss assign role'\n",
      " 'product must compli intranet page standard requir enet secur product look feel approv architectur group prior implement remain correct approv within one month product releas'\n",
      " 'intranet page display appropri resolut x higher display page correct resolut prior implement remain correct within week notif incorrect display'\n",
      " 'user abl easili use system success complet budget within stipul time complet week train prior product implement user shall complet budget within stipul time'\n",
      " 'product interfac fast respons time product interfac exceed second time time respons time second second'\n",
      " 'system shall display event activ' 'display shall two region'\n",
      " 'data display node within graph row tabl msel summari data'\n",
      " 'tabl side display shall split region'\n",
      " 'top tabl hold event occur sequenti'\n",
      " 'bottom tabl hold event occur accord relev current time'\n",
      " 'system shall color code event accord varianc current time'\n",
      " 'system shall display data sync matrix exercis manag tool applic'\n",
      " 'system shall link event back either sync matrix exercis manag tool applic modif'\n",
      " 'system shall allow modif display'\n",
      " 'system shall offer display event exercis' 'system shall filter data'\n",
      " 'system shall allow user defin time segment'\n",
      " 'system shall display local exercis time separ clock'\n",
      " 'system shall offer abil paus resum refresh data'\n",
      " 'system shall provid chart activ event actual versu assum time'\n",
      " 'system shall provid histori report chang made activ event data'\n",
      " 'look feel system shall conform user interfac standard smart devic'\n",
      " 'user interfac shall standard menu button navig'\n",
      " 'system shall profession appear'\n",
      " 'product shall consist color scheme font'\n",
      " 'system shall use realtor train' 'system shall intuit self explanatori'\n",
      " 'product shall easi realtor learn'\n",
      " 'product shall use symbol word natur understand realtor commun'\n",
      " 'product shall produc search result accept time'\n",
      " 'search result shall return later second user enter search criteria'\n",
      " 'product shall gener cma report accept time'\n",
      " 'cma report shall return later second user enter cma report criteria'\n",
      " 'product shall synchron contact appoint accept time'\n",
      " 'product shall synchron offic system everi hour'\n",
      " 'product shall avail use hour per day day per year'\n",
      " 'access system system avail time'\n",
      " 'product shall oper offlin mode whenev internet connect unavail'\n",
      " 'product shall allow user view previous download search result cma report appoint'\n",
      " 'product shall retain user prefer event failur'\n",
      " 'save user prefer shall restor system come back onlin'\n",
      " 'product shall abl support multipl remot user'\n",
      " 'product shall abl support simultan user'\n",
      " 'product shall capabl handl exist user number expect grow time within next year'\n",
      " 'product shall instal untrain realtor without recours separ print instruct'\n",
      " 'untrain realtor shall abl instal product devic without print instruct'\n",
      " 'product expect run window ce palm oper system'\n",
      " 'regist realtor shall abl access system'\n",
      " 'everi user system shall authent author'\n",
      " 'product shall prevent data incorrect data introduc'\n",
      " 'system shall allow real estat agent queri ml inform'\n",
      " 'user shall abl get drive direct select properti'\n",
      " 'user shall abl download appoint contact inform client'\n",
      " 'system shall display clear properti imag search result'\n",
      " 'system shall updat creat new properti list ml'\n",
      " 'realtor shall abl gener cma report base properti criteria'\n",
      " 'system shall abl call seller buyer schedul appoint'\n",
      " 'realtor shall notifi new client appoint automat synchron offic system'\n",
      " 'realtor shall abl retriev map show properti locat specifi area'\n",
      " 'system shall notifi realtor seller buyer respond appoint request'\n",
      " 'product shall allow user save properti search result'\n",
      " 'system shall easi use program administr nurs staff member'\n",
      " 'user shall abl use system one day train'\n",
      " 'system shall help user avoid make mistak schedul class clinic nurs student'\n",
      " 'number mistak note student shall decreas first year'\n",
      " 'system shall intuit program administr nurs staff member'\n",
      " 'program administr nurs staff member shall success abl use system manag schedul class clinic'\n",
      " 'system shall use symbol word natur understand user commun'\n",
      " 'verbiag use within system shall consist standard english terminolog nation nurs commun'\n",
      " 'staff member shall abl complet set task time manner'\n",
      " 'respons time gener student manag task shall take longer second respons time schedul gener shall take longer second'\n",
      " 'system shall avail use hour pm' 'system shall achiev time'\n",
      " 'system shall abl handl user request usag busi hour'\n",
      " 'system shall cater simultan user pm'\n",
      " 'system shall capabl process nurs student class next year'\n",
      " 'system shall expect manag nurs program curriculum class clinic schedul minimum year'\n",
      " 'system shall abl oper within busi offic environ typic nurs depart depaul univers'\n",
      " 'system shall use within specif defin comput use program administr nurs staff member'\n",
      " 'system shall oper within window xp profession oper system'\n",
      " 'system shall interfac campusconnect central server'\n",
      " 'system shall interfac faculti central server'\n",
      " 'system shall interfac student master server'\n",
      " 'must abl interfac html browser'\n",
      " 'author user shall access clinic site inform'\n",
      " 'program administr nurs staff member peopl shall access clinic site detail'\n",
      " 'author user shall access student person inform'\n",
      " 'dr susan poslusni dr juli donalek peopl shall access student person inform'\n",
      " 'author user shall access portion system interfac campusconnect'\n",
      " 'fit criterion'\n",
      " 'system shall basic data integr check reduc possibl incorrect invalid data introduc'\n",
      " 'system shall protect privat inform accord organ inform polici'\n",
      " 'system shall built secur possibl malici interfer'\n",
      " 'system shall use organ standard viru protect softwar help monitor threat'\n",
      " 'cohort shall associ one program studi offer depart'\n",
      " 'program administr nurs staff member shall abl add list student cohort'\n",
      " 'program administr nurs staff member shall abl add singl student cohort'\n",
      " 'student ad cohort shall elig cohort program studi'\n",
      " 'program administr nurs staff member shall abl specifi prefer sequenc class given cohort'\n",
      " 'class within sequenc cohort program administr nurs staff member shall abl specifi quarter class offer'\n",
      " 'class within sequenc cohort program administr nurs staff member shall abl specifi quarter class offer'\n",
      " 'program administr nurs staff member shall abl add new class sequenc class'\n",
      " 'program administr nurs staff member shall abl add clinic class section sequenc class'\n",
      " 'program administr nurs staff member shall abl add new cohort system identifi start month year'\n",
      " 'program administr nurs staff member shall abl add new class nurs depart system'\n",
      " 'class shall either non clinic class clinic class'\n",
      " 'non clinic class shall specifi cours name lectur room requir instructor need'\n",
      " 'clinic class shall specifi cours name lectur room requir clinic site need lectur instructor need clinic lab instructor need'\n",
      " 'program administr nurs staff member shall abl creat new program studi'\n",
      " 'program studi shall consist program name list requir class clinic non clinic must complet'\n",
      " 'program administr nurs staff member shall abil specifi class requir program studi'\n",
      " 'system shall abl display report need class given quarter cohort program program administr nurs staff member plan purpos'\n",
      " 'report need class shall includ limit class offer number section need number lab need room type need'\n",
      " 'class given cohort shall conflict regard time day offer'\n",
      " 'program administr nurs staff member shall abl add new clinic site system'\n",
      " 'clinic site inform shall includ limit name site contact person contact inform'\n",
      " 'program administr nurs staff member shall abl add new clinic lab section exist clinic class system'\n",
      " 'clinic lab section shall includ clinic site name class instructor day time lab'\n",
      " 'program administr nurs staff member shall abl add student regist clinic class clinic lab section class'\n",
      " 'system shall allow program administr nurs staff member remov student clinic lab section'\n",
      " 'system shall allow program administr nurs staff member move student one clinic lab section anoth clinic lab section correspond clinic class'\n",
      " 'program administr nurs staff member shall abl cancel clinic lab section student regist clinic lab section'\n",
      " 'program administr nurs staff member shall abl add new nurs student system'\n",
      " 'staff member shall abil manag progress part time student includ modifi sequenc class timelin class'\n",
      " 'system shall abl display printabl summari individu cohort includ student enlist program studi sequenc class cohort progress program timelin complet'\n",
      " 'system shall abl display printabl summari individu clinic site includ inform lab held site given quarter clinic site gener inform lab held locat date time lab held'\n",
      " 'system shall abl display printabl summari individu clinic lab includ limit class name class number lab section list student enrol instructor day time locat'\n",
      " 'system shall abl display printabl summari individu nurs student includ limit student name student id admiss date class credit gpa cohort student enrol'\n",
      " 'system shall abl display printabl summari system log'\n",
      " 'system shall contain contact inform e mail phone number peopl relev system includ limit staff member student lectur instructor clinic lab instructor clinic site administr'\n",
      " 'system use store e mail address primari mean commun inform affect parti'\n",
      " 'system notifi affect parti routin commun purpos includ limit inform student upcom offer class timelin schedul shall'\n",
      " 'system notifi affect parti chang occur affect clinic includ limit clinic section capac chang clinic section cancel'\n",
      " 'system notifi affect parti chang occur affect class includ limit class cancel class section detail chang chang class offer given quarter'\n",
      " 'system notifi affect parti chang occur affect cohort includ limit chang sequenc cohort program studi chang given week schedul lab cancel week due instructor ill'\n",
      " 'system notifi affect parti chang occur affect specif student includ limit chang student statu full time part time move student differ clinic section'\n",
      " 'program administr nurs staff member shall abil modifi inform relat cohort includ cohort identifi program studi prefer sequenc class quarter cohort take specif class'\n",
      " 'program administr nurs staff member shall abil modifi inform relat program studi within nurs depart includ program studi name requir class program studi'\n",
      " 'program administr nurs staff member shall abil modifi inform relat clinic site includ clinic site name site contact person contact inform address'\n",
      " 'program administr nurs staff member shall abil modifi inform relat clinic lab section includ clinic site name depart section lab class instructor day time lab contact inform'\n",
      " 'program administr nurs staff member shall abil modifi inform relat nurs student includ student id student name phone number e mail statu full time part time program studi'\n",
      " 'disput applic shall compli corpor standard user interfac creation intern extern use applic'\n",
      " 'screen creat part disput applic must compli corpor standard interfac creation'\n",
      " 'list disput case display search perform must color code easi identif disput case base upon disput case statu'\n",
      " 'cardmemb merchant servic repres shall use disput applic regularli day train cours'\n",
      " 'cardmemb servic repres shall abl success creat disput case first encount complet train cours'\n",
      " 'merchant servic repres shall abl success perform follow action disput case first encount complet train cours'\n",
      " 'maximum wait time user navig one screen anoth within disput applic shall second'\n",
      " 'disput applic shall support concurr user without degrad perform applic'\n",
      " 'disput applic shall avail x x except follow schedul mainten window monday saturday'\n",
      " 'disput applic shall interfac statement databas statement databas provid transact detail disput system transact detail must obtain statement databas'\n",
      " 'disput applic shall interfac cardmemb inform databas cardmemb inform databas provid detail inform regard cardmemb cardmemb detail inform must obtain cardmemb inform databas'\n",
      " 'disput applic shall interfac merchant inform databas merchant inform databas provid detail inform regard merchant merchant detail inform shall obtain merchant inform databas'\n",
      " 'disput applic shall interfac letter applic allow disput applic request letter part disput initi disput follow process letter request must sent print letter util applic'\n",
      " 'disput applic shall interfac cardmemb post bill system allow disput applic request adjust cardmemb merchant account adjust request must sent cardmemb post bill system'\n",
      " 'disput applic shall ensur user appropri access level allow initi disput request'\n",
      " 'user updat access must abl initi disput request'\n",
      " 'disput applic shall ensur author user allow logon applic'\n",
      " 'author user authent must abl logon disput system'\n",
      " 'disput system shall gener user report detail new user ad chang exist user access level report review audit purpos'\n",
      " 'addit new user modif user access shall record user report'\n",
      " 'user account revok instanti system administr'\n",
      " 'system administr shall abl reset revok user logon account'\n",
      " 'disput applic shall manipul view busi data user direct access data file databas'\n",
      " 'updat data file databas must initi disput system'\n",
      " 'disput applic must conform legal requir specifi merchant oper regul'\n",
      " 'busi rule specifi disput system shall complianc merchant oper regul'\n",
      " 'disput applic must conform legal requir specifi regul e regul z govern credit card disput process']\n"
     ]
    }
   ],
   "source": [
    "print(X)\n"
   ]
  },
  {
   "cell_type": "code",
   "execution_count": 32,
   "id": "3cb4f938",
   "metadata": {},
   "outputs": [
    {
     "name": "stdout",
     "output_type": "stream",
     "text": [
      "[0 0 0 0 0 0 0 0 1 1 1 0 0 0 1 1 1 1 1 1 1 1 1 1 1 1 1 1 1 1 1 1 1 1 1 1 1\n",
      " 1 1 0 0 0 0 0 0 0 0 0 0 0 0 0 0 0 0 0 0 0 0 0 0 0 0 0 0 0 0 0 0 0 0 0 0 0\n",
      " 0 0 1 1 1 1 1 1 1 1 1 1 1 1 1 1 1 1 1 1 1 1 1 1 1 1 1 1 1 1 1 1 1 1 1 1 1\n",
      " 1 0 0 0 0 0 0 0 0 0 0 0 0 0 0 0 0 0 0 0 0 0 0 0 0 0 0 0 0 0 0 0 0 0 0 0 0\n",
      " 0 0 0 0 0 0 0 0 0 0 0 1 1 1 1 1 1 1 1 1 1 1 1 1 1 1 1 1 1 1 1 1 1 1 1 1 1\n",
      " 1 0 0 0 0 0 0 0 0 1 1 1 1 1 1 1 1 1 1 1 1 1 1 1 0 0 0 0 0 0 0 0 0 0 0 0 0\n",
      " 0 0 0 0 0 0 0 0 0 0 0 0 0 0 0 0 0 0 0 0 0 0 0 0 0 0 0 0 0 0 0 0 0 0 0 0 0\n",
      " 0 0 0 0 0 0 0 0 0 0 0 0 0 0 0 0 0 0 0 0 0 0 0 1 1 1 1 1 1 1 1 1 1 1 1 1 1\n",
      " 1 1 1 1 1 1 0 0 0 0 0 0 0 0 1 1 1 1 1 1 1 1 1 1 1 1 1 1 1 1 0 0 0 0 0 0 0\n",
      " 0 0 0 0 0 0 0 0 1 1 1 1 1 1 1 1 1 1 1 1 1 1 1 1 1 1 1 1 1 1 1 1 1 1 1 1 1\n",
      " 1 1 1 1 1 1 1 1 1 0 0 0 0 0 0 0 0 0 0 0 0 0 0 0 0 0 0 0 0 0 0 0 0 0 0 0 0\n",
      " 0 0 0 0 0 0 0 0 0 0 0 0 0 0 0 0 0 0 0 0 0 0 0 0 0 0 0 0 0 0 0 0 0 0 0 0 0\n",
      " 0 0 0 0 0 0 0 0 0 0 0 0 0 0 0 0 0 1 1 1 1 1 1 1 1 1 1 1 1 1 1 1 1 1 0 0 0\n",
      " 0 0 0 0 0 0 0 0 0 0 0 0 0 0 0 0 0 0 0 0 0 0 0 0 0 0 1 1 1 1 1 1 1 1 1 1 1\n",
      " 0 0 0 0 0 0 0 0 0 0 0 0 0 0 0 0 0 0 0 0 0 0 0 0 0 0 0 0 0 0 0 0 0 1 1 1 1\n",
      " 1 1 1 1 1 1 1 1 1 1 1 1 1 1 1 1 1 1 1 1 1 1 1 1 1 1 1 1 1 1 1 1 1 1 1 1 1\n",
      " 1 1 1 1 1 1 0 0 0 0 0 0 0 0 0 0 0 0 0 0 0 0 0 0 0 0 0 0 0 0 0 0 0]\n"
     ]
    }
   ],
   "source": [
    "print(Y)"
   ]
  },
  {
   "cell_type": "code",
   "execution_count": 33,
   "id": "c77ec06f",
   "metadata": {},
   "outputs": [],
   "source": [
    "vectorizer= TfidfVectorizer()\n",
    "vectorizer.fit(X)\n",
    "\n",
    "X= vectorizer.transform(X)"
   ]
  },
  {
   "cell_type": "code",
   "execution_count": 34,
   "id": "e6bed692",
   "metadata": {},
   "outputs": [
    {
     "name": "stdout",
     "output_type": "stream",
     "text": [
      "  (0, 933)\t0.21343343898778527\n",
      "  (0, 867)\t0.13111470784745252\n",
      "  (0, 847)\t0.41634291557650344\n",
      "  (0, 770)\t0.6188883183902117\n",
      "  (0, 331)\t0.4771481156673681\n",
      "  (0, 273)\t0.3914340330533316\n",
      "  (1, 867)\t0.07349181653273806\n",
      "  (1, 864)\t0.30042260099421086\n",
      "  (1, 850)\t0.30042260099421086\n",
      "  (1, 837)\t0.38662023558239045\n",
      "  (1, 556)\t0.38662023558239045\n",
      "  (1, 432)\t0.38662023558239045\n",
      "  (1, 381)\t0.34689645041429223\n",
      "  (1, 253)\t0.3148252569360693\n",
      "  (1, 179)\t0.3071726652461941\n",
      "  (1, 60)\t0.2277250949099976\n",
      "  (2, 1025)\t0.27925965748401077\n",
      "  (2, 1024)\t0.19355761544170316\n",
      "  (2, 841)\t0.2567618052036604\n",
      "  (2, 756)\t0.29711720746320397\n",
      "  (2, 755)\t0.29711720746320397\n",
      "  (2, 734)\t0.5331790482758003\n",
      "  (2, 601)\t0.2639620679640467\n",
      "  (2, 330)\t0.2083765718991633\n",
      "  (2, 275)\t0.27925965748401077\n",
      "  :\t:\n",
      "  (622, 274)\t0.2311152019202806\n",
      "  (622, 201)\t0.3862787263368918\n",
      "  (622, 60)\t0.26328401097812276\n",
      "  (623, 933)\t0.14313017175960968\n",
      "  (623, 895)\t0.31997934379042153\n",
      "  (623, 867)\t0.08792657206582762\n",
      "  (623, 826)\t0.41503145772896677\n",
      "  (623, 774)\t0.38723049659480496\n",
      "  (623, 641)\t0.29217838265625967\n",
      "  (623, 568)\t0.3291350047395618\n",
      "  (623, 274)\t0.2391641488732341\n",
      "  (623, 191)\t0.41503145772896677\n",
      "  (623, 122)\t0.3522054277820679\n",
      "  (624, 895)\t0.22446933701741587\n",
      "  (624, 793)\t0.22446933701741587\n",
      "  (624, 774)\t0.543293650233197\n",
      "  (624, 728)\t0.20701373038956838\n",
      "  (624, 601)\t0.14414000844920133\n",
      "  (624, 513)\t0.30498692255092513\n",
      "  (624, 402)\t0.3244896293203958\n",
      "  (624, 274)\t0.33555302226678574\n",
      "  (624, 222)\t0.2470763204013507\n",
      "  (624, 201)\t0.28041641783567733\n",
      "  (624, 138)\t0.2308921426862588\n",
      "  (624, 60)\t0.19112923958308917\n"
     ]
    }
   ],
   "source": [
    "print(X)"
   ]
  },
  {
   "cell_type": "code",
   "execution_count": 35,
   "id": "f94622b4",
   "metadata": {},
   "outputs": [],
   "source": [
    "X_train, X_test, Y_train, Y_test= train_test_split(X, Y, test_size= 0.2, stratify= Y, random_state=2)"
   ]
  },
  {
   "cell_type": "code",
   "execution_count": 36,
   "id": "d6abcc28",
   "metadata": {},
   "outputs": [],
   "source": [
    "model= LogisticRegression()"
   ]
  },
  {
   "cell_type": "code",
   "execution_count": 37,
   "id": "d50c4ef5",
   "metadata": {},
   "outputs": [
    {
     "data": {
      "text/plain": [
       "LogisticRegression()"
      ]
     },
     "execution_count": 37,
     "metadata": {},
     "output_type": "execute_result"
    }
   ],
   "source": [
    "model.fit(X_train, Y_train)"
   ]
  },
  {
   "cell_type": "code",
   "execution_count": 38,
   "id": "26c8de24",
   "metadata": {},
   "outputs": [
    {
     "name": "stdout",
     "output_type": "stream",
     "text": [
      "Accuracy Score of the training data:  0.944\n"
     ]
    }
   ],
   "source": [
    "X_train_prediction= model.predict(X_train)\n",
    "training_data_accuracy= accuracy_score(X_train_prediction, Y_train)\n",
    "print('Accuracy Score of the training data: ',training_data_accuracy )\n"
   ]
  },
  {
   "cell_type": "code",
   "execution_count": 40,
   "id": "8347a536",
   "metadata": {},
   "outputs": [
    {
     "name": "stdout",
     "output_type": "stream",
     "text": [
      "Accuracy Score of the testing data:  0.864\n"
     ]
    }
   ],
   "source": [
    "#accuracy score on the testing data\n",
    "X_test_prediction= model.predict(X_test)\n",
    "testing_data_accuracy= accuracy_score(X_test_prediction, Y_test)\n",
    "print('Accuracy Score of the testing data: ',testing_data_accuracy )"
   ]
  },
  {
   "cell_type": "code",
   "execution_count": 41,
   "id": "45017488",
   "metadata": {},
   "outputs": [
    {
     "data": {
      "text/plain": [
       "array([[39, 12],\n",
       "       [ 5, 69]], dtype=int64)"
      ]
     },
     "execution_count": 41,
     "metadata": {},
     "output_type": "execute_result"
    }
   ],
   "source": [
    "confusion_matrix( Y_test, X_test_prediction,labels=[1,0])"
   ]
  },
  {
   "cell_type": "code",
   "execution_count": 42,
   "id": "9e9b9b46",
   "metadata": {},
   "outputs": [
    {
     "name": "stderr",
     "output_type": "stream",
     "text": [
      "C:\\Users\\Test\\anaconda3\\lib\\site-packages\\sklearn\\utils\\deprecation.py:87: FutureWarning: Function plot_confusion_matrix is deprecated; Function `plot_confusion_matrix` is deprecated in 1.0 and will be removed in 1.2. Use one of the class methods: ConfusionMatrixDisplay.from_predictions or ConfusionMatrixDisplay.from_estimator.\n",
      "  warnings.warn(msg, category=FutureWarning)\n"
     ]
    },
    {
     "data": {
      "text/plain": [
       "<sklearn.metrics._plot.confusion_matrix.ConfusionMatrixDisplay at 0x1fba0a583d0>"
      ]
     },
     "execution_count": 42,
     "metadata": {},
     "output_type": "execute_result"
    },
    {
     "data": {
      "image/png": "[encoded data removed]",
      "text/plain": [
       "<Figure size 640x480 with 2 Axes>"
      ]
     },
     "metadata": {},
     "output_type": "display_data"
    }
   ],
   "source": [
    "plot_confusion_matrix( model, X_test, Y_test)"
   ]
  },
  {
   "cell_type": "code",
   "execution_count": 44,
   "id": "742cb6ff",
   "metadata": {},
   "outputs": [
    {
     "name": "stdout",
     "output_type": "stream",
     "text": [
      "              precision    recall  f1-score   support\n",
      "\n",
      "           0       0.85      0.93      0.89        74\n",
      "           1       0.89      0.76      0.82        51\n",
      "\n",
      "    accuracy                           0.86       125\n",
      "   macro avg       0.87      0.85      0.86       125\n",
      "weighted avg       0.87      0.86      0.86       125\n",
      "\n"
     ]
    }
   ],
   "source": [
    "#LogisticRegression\n",
    "model_1= LogisticRegression()\n",
    "model_1.fit(X_train, Y_train)\n",
    "pred_1= model_1.predict(X_test)\n",
    "cr1    = classification_report(Y_test,pred_1)\n",
    "print(cr1)\n"
   ]
  },
  {
   "cell_type": "code",
   "execution_count": 45,
   "id": "78fbd0ed",
   "metadata": {},
   "outputs": [
    {
     "name": "stdout",
     "output_type": "stream",
     "text": [
      "              precision    recall  f1-score   support\n",
      "\n",
      "           0       0.81      0.70      0.75        74\n",
      "           1       0.64      0.76      0.70        51\n",
      "\n",
      "    accuracy                           0.73       125\n",
      "   macro avg       0.73      0.73      0.73       125\n",
      "weighted avg       0.74      0.73      0.73       125\n",
      "\n"
     ]
    }
   ],
   "source": [
    "#DecisionTreeClassifier\n",
    "model_2= DecisionTreeClassifier()\n",
    "model_2.fit(X_train, Y_train)\n",
    "pred_2= model_2.predict(X_test)\n",
    "cr2    = classification_report(Y_test,pred_2)\n",
    "print(cr2)"
   ]
  },
  {
   "cell_type": "code",
   "execution_count": 46,
   "id": "69f9b9fd",
   "metadata": {},
   "outputs": [
    {
     "name": "stdout",
     "output_type": "stream",
     "text": [
      "              precision    recall  f1-score   support\n",
      "\n",
      "           0       0.90      0.81      0.85        74\n",
      "           1       0.76      0.86      0.81        51\n",
      "\n",
      "    accuracy                           0.83       125\n",
      "   macro avg       0.83      0.84      0.83       125\n",
      "weighted avg       0.84      0.83      0.83       125\n",
      "\n"
     ]
    }
   ],
   "source": [
    "#PassiveAggressiveClassifier\n",
    "model_3= PassiveAggressiveClassifier()\n",
    "model_3.fit(X_train, Y_train)\n",
    "pred_3= model_3.predict(X_test)\n",
    "cr3    = classification_report(Y_test,pred_3)\n",
    "print(cr3)"
   ]
  },
  {
   "cell_type": "code",
   "execution_count": 47,
   "id": "8f4c4e9c",
   "metadata": {},
   "outputs": [
    {
     "name": "stdout",
     "output_type": "stream",
     "text": [
      "              precision    recall  f1-score   support\n",
      "\n",
      "          -1       0.00      0.00      0.00         0\n",
      "           0       0.00      0.00      0.00        74\n",
      "           1       0.48      0.25      0.33        51\n",
      "\n",
      "    accuracy                           0.10       125\n",
      "   macro avg       0.16      0.08      0.11       125\n",
      "weighted avg       0.20      0.10      0.14       125\n",
      "\n"
     ]
    },
    {
     "name": "stderr",
     "output_type": "stream",
     "text": [
      "C:\\Users\\Test\\anaconda3\\lib\\site-packages\\sklearn\\metrics\\_classification.py:1318: UndefinedMetricWarning: Precision and F-score are ill-defined and being set to 0.0 in labels with no predicted samples. Use `zero_division` parameter to control this behavior.\n",
      "  _warn_prf(average, modifier, msg_start, len(result))\n",
      "C:\\Users\\Test\\anaconda3\\lib\\site-packages\\sklearn\\metrics\\_classification.py:1318: UndefinedMetricWarning: Recall and F-score are ill-defined and being set to 0.0 in labels with no true samples. Use `zero_division` parameter to control this behavior.\n",
      "  _warn_prf(average, modifier, msg_start, len(result))\n",
      "C:\\Users\\Test\\anaconda3\\lib\\site-packages\\sklearn\\metrics\\_classification.py:1318: UndefinedMetricWarning: Precision and F-score are ill-defined and being set to 0.0 in labels with no predicted samples. Use `zero_division` parameter to control this behavior.\n",
      "  _warn_prf(average, modifier, msg_start, len(result))\n",
      "C:\\Users\\Test\\anaconda3\\lib\\site-packages\\sklearn\\metrics\\_classification.py:1318: UndefinedMetricWarning: Recall and F-score are ill-defined and being set to 0.0 in labels with no true samples. Use `zero_division` parameter to control this behavior.\n",
      "  _warn_prf(average, modifier, msg_start, len(result))\n",
      "C:\\Users\\Test\\anaconda3\\lib\\site-packages\\sklearn\\metrics\\_classification.py:1318: UndefinedMetricWarning: Precision and F-score are ill-defined and being set to 0.0 in labels with no predicted samples. Use `zero_division` parameter to control this behavior.\n",
      "  _warn_prf(average, modifier, msg_start, len(result))\n",
      "C:\\Users\\Test\\anaconda3\\lib\\site-packages\\sklearn\\metrics\\_classification.py:1318: UndefinedMetricWarning: Recall and F-score are ill-defined and being set to 0.0 in labels with no true samples. Use `zero_division` parameter to control this behavior.\n",
      "  _warn_prf(average, modifier, msg_start, len(result))\n"
     ]
    }
   ],
   "source": [
    "#OneClassSVM\n",
    "model_4= OneClassSVM()\n",
    "model_4.fit(X_train, Y_train)\n",
    "pred_4= model_4.predict(X_test)\n",
    "cr4    = classification_report(Y_test,pred_4)\n",
    "print(cr4)"
   ]
  },
  {
   "cell_type": "code",
   "execution_count": 48,
   "id": "bc53aaa5",
   "metadata": {},
   "outputs": [
    {
     "name": "stdout",
     "output_type": "stream",
     "text": [
      "              precision    recall  f1-score   support\n",
      "\n",
      "           0       0.87      0.93      0.90        74\n",
      "           1       0.89      0.80      0.85        51\n",
      "\n",
      "    accuracy                           0.88       125\n",
      "   macro avg       0.88      0.87      0.87       125\n",
      "weighted avg       0.88      0.88      0.88       125\n",
      "\n"
     ]
    }
   ],
   "source": [
    "#MultinomialNB\n",
    "model_5= MultinomialNB()\n",
    "model_5.fit(X_train, Y_train)\n",
    "pred_5= model_5.predict(X_test)\n",
    "cr5    = classification_report(Y_test,pred_5)\n",
    "print(cr5)"
   ]
  },
  {
   "cell_type": "code",
   "execution_count": 49,
   "id": "fedd734b",
   "metadata": {},
   "outputs": [
    {
     "name": "stdout",
     "output_type": "stream",
     "text": [
      "              precision    recall  f1-score   support\n",
      "\n",
      "           0       0.81      0.92      0.86        74\n",
      "           1       0.85      0.69      0.76        51\n",
      "\n",
      "    accuracy                           0.82       125\n",
      "   macro avg       0.83      0.80      0.81       125\n",
      "weighted avg       0.83      0.82      0.82       125\n",
      "\n"
     ]
    }
   ],
   "source": [
    "#RandomForestClassifier\n",
    "model_6= RandomForestClassifier()\n",
    "model_6.fit(X_train, Y_train)\n",
    "pred_6= model_6.predict(X_test)\n",
    "cr6    = classification_report(Y_test,pred_6)\n",
    "print(cr6)"
   ]
  },
  {
   "cell_type": "code",
   "execution_count": 52,
   "id": "0a239e4c",
   "metadata": {},
   "outputs": [
    {
     "data": {
      "application/vnd.plotly.v1+json": {
       "config": {
        "plotlyServerURL": "https://plot.ly"
       },
       "data": [
        {
         "domain": {
          "x": [
           0,
           1
          ],
          "y": [
           0,
           1
          ]
         },
         "hovertemplate": "True_index=%{label}<extra></extra>",
         "labels": [
          0,
          0,
          0,
          0,
          0,
          0,
          0,
          0,
          1,
          1,
          1,
          0,
          0,
          0,
          1,
          1,
          1,
          1,
          1,
          1,
          1,
          1,
          1,
          1,
          1,
          1,
          1,
          1,
          1,
          1,
          1,
          1,
          1,
          1,
          1,
          1,
          1,
          1,
          1,
          0,
          0,
          0,
          0,
          0,
          0,
          0,
          0,
          0,
          0,
          0,
          0,
          0,
          0,
          0,
          0,
          0,
          0,
          0,
          0,
          0,
          0,
          0,
          0,
          0,
          0,
          0,
          0,
          0,
          0,
          0,
          0,
          0,
          0,
          0,
          0,
          0,
          1,
          1,
          1,
          1,
          1,
          1,
          1,
          1,
          1,
          1,
          1,
          1,
          1,
          1,
          1,
          1,
          1,
          1,
          1,
          1,
          1,
          1,
          1,
          1,
          1,
          1,
          1,
          1,
          1,
          1,
          1,
          1,
          1,
          1,
          1,
          1,
          0,
          0,
          0,
          0,
          0,
          0,
          0,
          0,
          0,
          0,
          0,
          0,
          0,
          0,
          0,
          0,
          0,
          0,
          0,
          0,
          0,
          0,
          0,
          0,
          0,
          0,
          0,
          0,
          0,
          0,
          0,
          0,
          0,
          0,
          0,
          0,
          0,
          0,
          0,
          0,
          0,
          0,
          0,
          0,
          0,
          0,
          0,
          1,
          1,
          1,
          1,
          1,
          1,
          1,
          1,
          1,
          1,
          1,
          1,
          1,
          1,
          1,
          1,
          1,
          1,
          1,
          1,
          1,
          1,
          1,
          1,
          1,
          1,
          1,
          0,
          0,
          0,
          0,
          0,
          0,
          0,
          0,
          1,
          1,
          1,
          1,
          1,
          1,
          1,
          1,
          1,
          1,
          1,
          1,
          1,
          1,
          1,
          0,
          0,
          0,
          0,
          0,
          0,
          0,
          0,
          0,
          0,
          0,
          0,
          0,
          0,
          0,
          0,
          0,
          0,
          0,
          0,
          0,
          0,
          0,
          0,
          0,
          0,
          0,
          0,
          0,
          0,
          0,
          0,
          0,
          0,
          0,
          0,
          0,
          0,
          0,
          0,
          0,
          0,
          0,
          0,
          0,
          0,
          0,
          0,
          0,
          0,
          0,
          0,
          0,
          0,
          0,
          0,
          0,
          0,
          0,
          0,
          0,
          0,
          0,
          0,
          0,
          0,
          0,
          0,
          0,
          0,
          0,
          0,
          0,
          1,
          1,
          1,
          1,
          1,
          1,
          1,
          1,
          1,
          1,
          1,
          1,
          1,
          1,
          1,
          1,
          1,
          1,
          1,
          1,
          0,
          0,
          0,
          0,
          0,
          0,
          0,
          0,
          1,
          1,
          1,
          1,
          1,
          1,
          1,
          1,
          1,
          1,
          1,
          1,
          1,
          1,
          1,
          1,
          0,
          0,
          0,
          0,
          0,
          0,
          0,
          0,
          0,
          0,
          0,
          0,
          0,
          0,
          0,
          1,
          1,
          1,
          1,
          1,
          1,
          1,
          1,
          1,
          1,
          1,
          1,
          1,
          1,
          1,
          1,
          1,
          1,
          1,
          1,
          1,
          1,
          1,
          1,
          1,
          1,
          1,
          1,
          1,
          1,
          1,
          1,
          1,
          1,
          1,
          1,
          1,
          1,
          0,
          0,
          0,
          0,
          0,
          0,
          0,
          0,
          0,
          0,
          0,
          0,
          0,
          0,
          0,
          0,
          0,
          0,
          0,
          0,
          0,
          0,
          0,
          0,
          0,
          0,
          0,
          0,
          0,
          0,
          0,
          0,
          0,
          0,
          0,
          0,
          0,
          0,
          0,
          0,
          0,
          0,
          0,
          0,
          0,
          0,
          0,
          0,
          0,
          0,
          0,
          0,
          0,
          0,
          0,
          0,
          0,
          0,
          0,
          0,
          0,
          0,
          0,
          0,
          0,
          0,
          0,
          0,
          0,
          0,
          0,
          0,
          0,
          0,
          0,
          0,
          0,
          0,
          0,
          0,
          0,
          0,
          1,
          1,
          1,
          1,
          1,
          1,
          1,
          1,
          1,
          1,
          1,
          1,
          1,
          1,
          1,
          1,
          1,
          0,
          0,
          0,
          0,
          0,
          0,
          0,
          0,
          0,
          0,
          0,
          0,
          0,
          0,
          0,
          0,
          0,
          0,
          0,
          0,
          0,
          0,
          0,
          0,
          0,
          0,
          0,
          0,
          0,
          1,
          1,
          1,
          1,
          1,
          1,
          1,
          1,
          1,
          1,
          1,
          0,
          0,
          0,
          0,
          0,
          0,
          0,
          0,
          0,
          0,
          0,
          0,
          0,
          0,
          0,
          0,
          0,
          0,
          0,
          0,
          0,
          0,
          0,
          0,
          0,
          0,
          0,
          0,
          0,
          0,
          0,
          0,
          0,
          1,
          1,
          1,
          1,
          1,
          1,
          1,
          1,
          1,
          1,
          1,
          1,
          1,
          1,
          1,
          1,
          1,
          1,
          1,
          1,
          1,
          1,
          1,
          1,
          1,
          1,
          1,
          1,
          1,
          1,
          1,
          1,
          1,
          1,
          1,
          1,
          1,
          1,
          1,
          1,
          1,
          1,
          1,
          1,
          1,
          1,
          1,
          0,
          0,
          0,
          0,
          0,
          0,
          0,
          0,
          0,
          0,
          0,
          0,
          0,
          0,
          0,
          0,
          0,
          0,
          0,
          0,
          0,
          0,
          0,
          0,
          0,
          0,
          0
         ],
         "legendgroup": "",
         "name": "",
         "showlegend": true,
         "type": "pie"
        }
       ],
       "layout": {
        "legend": {
         "tracegroupgap": 0
        },
        "template": {
         "data": {
          "bar": [
           {
            "error_x": {
             "color": "#2a3f5f"
            },
            "error_y": {
             "color": "#2a3f5f"
            },
            "marker": {
             "line": {
              "color": "#E5ECF6",
              "width": 0.5
             },
             "pattern": {
              "fillmode": "overlay",
              "size": 10,
              "solidity": 0.2
             }
            },
            "type": "bar"
           }
          ],
          "barpolar": [
           {
            "marker": {
             "line": {
              "color": "#E5ECF6",
              "width": 0.5
             },
             "pattern": {
              "fillmode": "overlay",
              "size": 10,
              "solidity": 0.2
             }
            },
            "type": "barpolar"
           }
          ],
          "carpet": [
           {
            "aaxis": {
             "endlinecolor": "#2a3f5f",
             "gridcolor": "white",
             "linecolor": "white",
             "minorgridcolor": "white",
             "startlinecolor": "#2a3f5f"
            },
            "baxis": {
             "endlinecolor": "#2a3f5f",
             "gridcolor": "white",
             "linecolor": "white",
             "minorgridcolor": "white",
             "startlinecolor": "#2a3f5f"
            },
            "type": "carpet"
           }
          ],
          "choropleth": [
           {
            "colorbar": {
             "outlinewidth": 0,
             "ticks": ""
            },
            "type": "choropleth"
           }
          ],
          "contour": [
           {
            "colorbar": {
             "outlinewidth": 0,
             "ticks": ""
            },
            "colorscale": [
             [
              0,
              "#0d0887"
             ],
             [
              0.1111111111111111,
              "#46039f"
             ],
             [
              0.2222222222222222,
              "#7201a8"
             ],
             [
              0.3333333333333333,
              "#9c179e"
             ],
             [
              0.4444444444444444,
              "#bd3786"
             ],
             [
              0.5555555555555556,
              "#d8576b"
             ],
             [
              0.6666666666666666,
              "#ed7953"
             ],
             [
              0.7777777777777778,
              "#fb9f3a"
             ],
             [
              0.8888888888888888,
              "#fdca26"
             ],
             [
              1,
              "#f0f921"
             ]
            ],
            "type": "contour"
           }
          ],
          "contourcarpet": [
           {
            "colorbar": {
             "outlinewidth": 0,
             "ticks": ""
            },
            "type": "contourcarpet"
           }
          ],
          "heatmap": [
           {
            "colorbar": {
             "outlinewidth": 0,
             "ticks": ""
            },
            "colorscale": [
             [
              0,
              "#0d0887"
             ],
             [
              0.1111111111111111,
              "#46039f"
             ],
             [
              0.2222222222222222,
              "#7201a8"
             ],
             [
              0.3333333333333333,
              "#9c179e"
             ],
             [
              0.4444444444444444,
              "#bd3786"
             ],
             [
              0.5555555555555556,
              "#d8576b"
             ],
             [
              0.6666666666666666,
              "#ed7953"
             ],
             [
              0.7777777777777778,
              "#fb9f3a"
             ],
             [
              0.8888888888888888,
              "#fdca26"
             ],
             [
              1,
              "#f0f921"
             ]
            ],
            "type": "heatmap"
           }
          ],
          "heatmapgl": [
           {
            "colorbar": {
             "outlinewidth": 0,
             "ticks": ""
            },
            "colorscale": [
             [
              0,
              "#0d0887"
             ],
             [
              0.1111111111111111,
              "#46039f"
             ],
             [
              0.2222222222222222,
              "#7201a8"
             ],
             [
              0.3333333333333333,
              "#9c179e"
             ],
             [
              0.4444444444444444,
              "#bd3786"
             ],
             [
              0.5555555555555556,
              "#d8576b"
             ],
             [
              0.6666666666666666,
              "#ed7953"
             ],
             [
              0.7777777777777778,
              "#fb9f3a"
             ],
             [
              0.8888888888888888,
              "#fdca26"
             ],
             [
              1,
              "#f0f921"
             ]
            ],
            "type": "heatmapgl"
           }
          ],
          "histogram": [
           {
            "marker": {
             "pattern": {
              "fillmode": "overlay",
              "size": 10,
              "solidity": 0.2
             }
            },
            "type": "histogram"
           }
          ],
          "histogram2d": [
           {
            "colorbar": {
             "outlinewidth": 0,
             "ticks": ""
            },
            "colorscale": [
             [
              0,
              "#0d0887"
             ],
             [
              0.1111111111111111,
              "#46039f"
             ],
             [
              0.2222222222222222,
              "#7201a8"
             ],
             [
              0.3333333333333333,
              "#9c179e"
             ],
             [
              0.4444444444444444,
              "#bd3786"
             ],
             [
              0.5555555555555556,
              "#d8576b"
             ],
             [
              0.6666666666666666,
              "#ed7953"
             ],
             [
              0.7777777777777778,
              "#fb9f3a"
             ],
             [
              0.8888888888888888,
              "#fdca26"
             ],
             [
              1,
              "#f0f921"
             ]
            ],
            "type": "histogram2d"
           }
          ],
          "histogram2dcontour": [
           {
            "colorbar": {
             "outlinewidth": 0,
             "ticks": ""
            },
            "colorscale": [
             [
              0,
              "#0d0887"
             ],
             [
              0.1111111111111111,
              "#46039f"
             ],
             [
              0.2222222222222222,
              "#7201a8"
             ],
             [
              0.3333333333333333,
              "#9c179e"
             ],
             [
              0.4444444444444444,
              "#bd3786"
             ],
             [
              0.5555555555555556,
              "#d8576b"
             ],
             [
              0.6666666666666666,
              "#ed7953"
             ],
             [
              0.7777777777777778,
              "#fb9f3a"
             ],
             [
              0.8888888888888888,
              "#fdca26"
             ],
             [
              1,
              "#f0f921"
             ]
            ],
            "type": "histogram2dcontour"
           }
          ],
          "mesh3d": [
           {
            "colorbar": {
             "outlinewidth": 0,
             "ticks": ""
            },
            "type": "mesh3d"
           }
          ],
          "parcoords": [
           {
            "line": {
             "colorbar": {
              "outlinewidth": 0,
              "ticks": ""
             }
            },
            "type": "parcoords"
           }
          ],
          "pie": [
           {
            "automargin": true,
            "type": "pie"
           }
          ],
          "scatter": [
           {
            "fillpattern": {
             "fillmode": "overlay",
             "size": 10,
             "solidity": 0.2
            },
            "type": "scatter"
           }
          ],
          "scatter3d": [
           {
            "line": {
             "colorbar": {
              "outlinewidth": 0,
              "ticks": ""
             }
            },
            "marker": {
             "colorbar": {
              "outlinewidth": 0,
              "ticks": ""
             }
            },
            "type": "scatter3d"
           }
          ],
          "scattercarpet": [
           {
            "marker": {
             "colorbar": {
              "outlinewidth": 0,
              "ticks": ""
             }
            },
            "type": "scattercarpet"
           }
          ],
          "scattergeo": [
           {
            "marker": {
             "colorbar": {
              "outlinewidth": 0,
              "ticks": ""
             }
            },
            "type": "scattergeo"
           }
          ],
          "scattergl": [
           {
            "marker": {
             "colorbar": {
              "outlinewidth": 0,
              "ticks": ""
             }
            },
            "type": "scattergl"
           }
          ],
          "scattermapbox": [
           {
            "marker": {
             "colorbar": {
              "outlinewidth": 0,
              "ticks": ""
             }
            },
            "type": "scattermapbox"
           }
          ],
          "scatterpolar": [
           {
            "marker": {
             "colorbar": {
              "outlinewidth": 0,
              "ticks": ""
             }
            },
            "type": "scatterpolar"
           }
          ],
          "scatterpolargl": [
           {
            "marker": {
             "colorbar": {
              "outlinewidth": 0,
              "ticks": ""
             }
            },
            "type": "scatterpolargl"
           }
          ],
          "scatterternary": [
           {
            "marker": {
             "colorbar": {
              "outlinewidth": 0,
              "ticks": ""
             }
            },
            "type": "scatterternary"
           }
          ],
          "surface": [
           {
            "colorbar": {
             "outlinewidth": 0,
             "ticks": ""
            },
            "colorscale": [
             [
              0,
              "#0d0887"
             ],
             [
              0.1111111111111111,
              "#46039f"
             ],
             [
              0.2222222222222222,
              "#7201a8"
             ],
             [
              0.3333333333333333,
              "#9c179e"
             ],
             [
              0.4444444444444444,
              "#bd3786"
             ],
             [
              0.5555555555555556,
              "#d8576b"
             ],
             [
              0.6666666666666666,
              "#ed7953"
             ],
             [
              0.7777777777777778,
              "#fb9f3a"
             ],
             [
              0.8888888888888888,
              "#fdca26"
             ],
             [
              1,
              "#f0f921"
             ]
            ],
            "type": "surface"
           }
          ],
          "table": [
           {
            "cells": {
             "fill": {
              "color": "#EBF0F8"
             },
             "line": {
              "color": "white"
             }
            },
            "header": {
             "fill": {
              "color": "#C8D4E3"
             },
             "line": {
              "color": "white"
             }
            },
            "type": "table"
           }
          ]
         },
         "layout": {
          "annotationdefaults": {
           "arrowcolor": "#2a3f5f",
           "arrowhead": 0,
           "arrowwidth": 1
          },
          "autotypenumbers": "strict",
          "coloraxis": {
           "colorbar": {
            "outlinewidth": 0,
            "ticks": ""
           }
          },
          "colorscale": {
           "diverging": [
            [
             0,
             "#8e0152"
            ],
            [
             0.1,
             "#c51b7d"
            ],
            [
             0.2,
             "#de77ae"
            ],
            [
             0.3,
             "#f1b6da"
            ],
            [
             0.4,
             "#fde0ef"
            ],
            [
             0.5,
             "#f7f7f7"
            ],
            [
             0.6,
             "#e6f5d0"
            ],
            [
             0.7,
             "#b8e186"
            ],
            [
             0.8,
             "#7fbc41"
            ],
            [
             0.9,
             "#4d9221"
            ],
            [
             1,
             "#276419"
            ]
           ],
           "sequential": [
            [
             0,
             "#0d0887"
            ],
            [
             0.1111111111111111,
             "#46039f"
            ],
            [
             0.2222222222222222,
             "#7201a8"
            ],
            [
             0.3333333333333333,
             "#9c179e"
            ],
            [
             0.4444444444444444,
             "#bd3786"
            ],
            [
             0.5555555555555556,
             "#d8576b"
            ],
            [
             0.6666666666666666,
             "#ed7953"
            ],
            [
             0.7777777777777778,
             "#fb9f3a"
            ],
            [
             0.8888888888888888,
             "#fdca26"
            ],
            [
             1,
             "#f0f921"
            ]
           ],
           "sequentialminus": [
            [
             0,
             "#0d0887"
            ],
            [
             0.1111111111111111,
             "#46039f"
            ],
            [
             0.2222222222222222,
             "#7201a8"
            ],
            [
             0.3333333333333333,
             "#9c179e"
            ],
            [
             0.4444444444444444,
             "#bd3786"
            ],
            [
             0.5555555555555556,
             "#d8576b"
            ],
            [
             0.6666666666666666,
             "#ed7953"
            ],
            [
             0.7777777777777778,
             "#fb9f3a"
            ],
            [
             0.8888888888888888,
             "#fdca26"
            ],
            [
             1,
             "#f0f921"
            ]
           ]
          },
          "colorway": [
           "#636efa",
           "#EF553B",
           "#00cc96",
           "#ab63fa",
           "#FFA15A",
           "#19d3f3",
           "#FF6692",
           "#B6E880",
           "#FF97FF",
           "#FECB52"
          ],
          "font": {
           "color": "#2a3f5f"
          },
          "geo": {
           "bgcolor": "white",
           "lakecolor": "white",
           "landcolor": "#E5ECF6",
           "showlakes": true,
           "showland": true,
           "subunitcolor": "white"
          },
          "hoverlabel": {
           "align": "left"
          },
          "hovermode": "closest",
          "mapbox": {
           "style": "light"
          },
          "paper_bgcolor": "white",
          "plot_bgcolor": "#E5ECF6",
          "polar": {
           "angularaxis": {
            "gridcolor": "white",
            "linecolor": "white",
            "ticks": ""
           },
           "bgcolor": "#E5ECF6",
           "radialaxis": {
            "gridcolor": "white",
            "linecolor": "white",
            "ticks": ""
           }
          },
          "scene": {
           "xaxis": {
            "backgroundcolor": "#E5ECF6",
            "gridcolor": "white",
            "gridwidth": 2,
            "linecolor": "white",
            "showbackground": true,
            "ticks": "",
            "zerolinecolor": "white"
           },
           "yaxis": {
            "backgroundcolor": "#E5ECF6",
            "gridcolor": "white",
            "gridwidth": 2,
            "linecolor": "white",
            "showbackground": true,
            "ticks": "",
            "zerolinecolor": "white"
           },
           "zaxis": {
            "backgroundcolor": "#E5ECF6",
            "gridcolor": "white",
            "gridwidth": 2,
            "linecolor": "white",
            "showbackground": true,
            "ticks": "",
            "zerolinecolor": "white"
           }
          },
          "shapedefaults": {
           "line": {
            "color": "#2a3f5f"
           }
          },
          "ternary": {
           "aaxis": {
            "gridcolor": "white",
            "linecolor": "white",
            "ticks": ""
           },
           "baxis": {
            "gridcolor": "white",
            "linecolor": "white",
            "ticks": ""
           },
           "bgcolor": "#E5ECF6",
           "caxis": {
            "gridcolor": "white",
            "linecolor": "white",
            "ticks": ""
           }
          },
          "title": {
           "x": 0.05
          },
          "xaxis": {
           "automargin": true,
           "gridcolor": "white",
           "linecolor": "white",
           "ticks": "",
           "title": {
            "standoff": 15
           },
           "zerolinecolor": "white",
           "zerolinewidth": 2
          },
          "yaxis": {
           "automargin": true,
           "gridcolor": "white",
           "linecolor": "white",
           "ticks": "",
           "title": {
            "standoff": 15
           },
           "zerolinecolor": "white",
           "zerolinewidth": 2
          }
         }
        },
        "title": {
         "text": "function Requirment vs. Non-function Requirment"
        }
       }
      },
      "text/html": [
       "<div>                            <div id=\"f6e2ac87-e985-4d90-8d4c-130ef6a1fe22\" class=\"plotly-graph-div\" style=\"height:525px; width:100%;\"></div>            <script type=\"text/javascript\">                require([\"plotly\"], function(Plotly) {                    window.PLOTLYENV=window.PLOTLYENV || {};                                    if (document.getElementById(\"f6e2ac87-e985-4d90-8d4c-130ef6a1fe22\")) {                    Plotly.newPlot(                        \"f6e2ac87-e985-4d90-8d4c-130ef6a1fe22\",                        [{\"domain\":{\"x\":[0.0,1.0],\"y\":[0.0,1.0]},\"hovertemplate\":\"True_index=%{label}<extra></extra>\",\"labels\":[0,0,0,0,0,0,0,0,1,1,1,0,0,0,1,1,1,1,1,1,1,1,1,1,1,1,1,1,1,1,1,1,1,1,1,1,1,1,1,0,0,0,0,0,0,0,0,0,0,0,0,0,0,0,0,0,0,0,0,0,0,0,0,0,0,0,0,0,0,0,0,0,0,0,0,0,1,1,1,1,1,1,1,1,1,1,1,1,1,1,1,1,1,1,1,1,1,1,1,1,1,1,1,1,1,1,1,1,1,1,1,1,0,0,0,0,0,0,0,0,0,0,0,0,0,0,0,0,0,0,0,0,0,0,0,0,0,0,0,0,0,0,0,0,0,0,0,0,0,0,0,0,0,0,0,0,0,0,0,1,1,1,1,1,1,1,1,1,1,1,1,1,1,1,1,1,1,1,1,1,1,1,1,1,1,1,0,0,0,0,0,0,0,0,1,1,1,1,1,1,1,1,1,1,1,1,1,1,1,0,0,0,0,0,0,0,0,0,0,0,0,0,0,0,0,0,0,0,0,0,0,0,0,0,0,0,0,0,0,0,0,0,0,0,0,0,0,0,0,0,0,0,0,0,0,0,0,0,0,0,0,0,0,0,0,0,0,0,0,0,0,0,0,0,0,0,0,0,0,0,0,0,1,1,1,1,1,1,1,1,1,1,1,1,1,1,1,1,1,1,1,1,0,0,0,0,0,0,0,0,1,1,1,1,1,1,1,1,1,1,1,1,1,1,1,1,0,0,0,0,0,0,0,0,0,0,0,0,0,0,0,1,1,1,1,1,1,1,1,1,1,1,1,1,1,1,1,1,1,1,1,1,1,1,1,1,1,1,1,1,1,1,1,1,1,1,1,1,1,0,0,0,0,0,0,0,0,0,0,0,0,0,0,0,0,0,0,0,0,0,0,0,0,0,0,0,0,0,0,0,0,0,0,0,0,0,0,0,0,0,0,0,0,0,0,0,0,0,0,0,0,0,0,0,0,0,0,0,0,0,0,0,0,0,0,0,0,0,0,0,0,0,0,0,0,0,0,0,0,0,0,1,1,1,1,1,1,1,1,1,1,1,1,1,1,1,1,1,0,0,0,0,0,0,0,0,0,0,0,0,0,0,0,0,0,0,0,0,0,0,0,0,0,0,0,0,0,1,1,1,1,1,1,1,1,1,1,1,0,0,0,0,0,0,0,0,0,0,0,0,0,0,0,0,0,0,0,0,0,0,0,0,0,0,0,0,0,0,0,0,0,1,1,1,1,1,1,1,1,1,1,1,1,1,1,1,1,1,1,1,1,1,1,1,1,1,1,1,1,1,1,1,1,1,1,1,1,1,1,1,1,1,1,1,1,1,1,1,0,0,0,0,0,0,0,0,0,0,0,0,0,0,0,0,0,0,0,0,0,0,0,0,0,0,0],\"legendgroup\":\"\",\"name\":\"\",\"showlegend\":true,\"type\":\"pie\"}],                        {\"template\":{\"data\":{\"histogram2dcontour\":[{\"type\":\"histogram2dcontour\",\"colorbar\":{\"outlinewidth\":0,\"ticks\":\"\"},\"colorscale\":[[0.0,\"#0d0887\"],[0.1111111111111111,\"#46039f\"],[0.2222222222222222,\"#7201a8\"],[0.3333333333333333,\"#9c179e\"],[0.4444444444444444,\"#bd3786\"],[0.5555555555555556,\"#d8576b\"],[0.6666666666666666,\"#ed7953\"],[0.7777777777777778,\"#fb9f3a\"],[0.8888888888888888,\"#fdca26\"],[1.0,\"#f0f921\"]]}],\"choropleth\":[{\"type\":\"choropleth\",\"colorbar\":{\"outlinewidth\":0,\"ticks\":\"\"}}],\"histogram2d\":[{\"type\":\"histogram2d\",\"colorbar\":{\"outlinewidth\":0,\"ticks\":\"\"},\"colorscale\":[[0.0,\"#0d0887\"],[0.1111111111111111,\"#46039f\"],[0.2222222222222222,\"#7201a8\"],[0.3333333333333333,\"#9c179e\"],[0.4444444444444444,\"#bd3786\"],[0.5555555555555556,\"#d8576b\"],[0.6666666666666666,\"#ed7953\"],[0.7777777777777778,\"#fb9f3a\"],[0.8888888888888888,\"#fdca26\"],[1.0,\"#f0f921\"]]}],\"heatmap\":[{\"type\":\"heatmap\",\"colorbar\":{\"outlinewidth\":0,\"ticks\":\"\"},\"colorscale\":[[0.0,\"#0d0887\"],[0.1111111111111111,\"#46039f\"],[0.2222222222222222,\"#7201a8\"],[0.3333333333333333,\"#9c179e\"],[0.4444444444444444,\"#bd3786\"],[0.5555555555555556,\"#d8576b\"],[0.6666666666666666,\"#ed7953\"],[0.7777777777777778,\"#fb9f3a\"],[0.8888888888888888,\"#fdca26\"],[1.0,\"#f0f921\"]]}],\"heatmapgl\":[{\"type\":\"heatmapgl\",\"colorbar\":{\"outlinewidth\":0,\"ticks\":\"\"},\"colorscale\":[[0.0,\"#0d0887\"],[0.1111111111111111,\"#46039f\"],[0.2222222222222222,\"#7201a8\"],[0.3333333333333333,\"#9c179e\"],[0.4444444444444444,\"#bd3786\"],[0.5555555555555556,\"#d8576b\"],[0.6666666666666666,\"#ed7953\"],[0.7777777777777778,\"#fb9f3a\"],[0.8888888888888888,\"#fdca26\"],[1.0,\"#f0f921\"]]}],\"contourcarpet\":[{\"type\":\"contourcarpet\",\"colorbar\":{\"outlinewidth\":0,\"ticks\":\"\"}}],\"contour\":[{\"type\":\"contour\",\"colorbar\":{\"outlinewidth\":0,\"ticks\":\"\"},\"colorscale\":[[0.0,\"#0d0887\"],[0.1111111111111111,\"#46039f\"],[0.2222222222222222,\"#7201a8\"],[0.3333333333333333,\"#9c179e\"],[0.4444444444444444,\"#bd3786\"],[0.5555555555555556,\"#d8576b\"],[0.6666666666666666,\"#ed7953\"],[0.7777777777777778,\"#fb9f3a\"],[0.8888888888888888,\"#fdca26\"],[1.0,\"#f0f921\"]]}],\"surface\":[{\"type\":\"surface\",\"colorbar\":{\"outlinewidth\":0,\"ticks\":\"\"},\"colorscale\":[[0.0,\"#0d0887\"],[0.1111111111111111,\"#46039f\"],[0.2222222222222222,\"#7201a8\"],[0.3333333333333333,\"#9c179e\"],[0.4444444444444444,\"#bd3786\"],[0.5555555555555556,\"#d8576b\"],[0.6666666666666666,\"#ed7953\"],[0.7777777777777778,\"#fb9f3a\"],[0.8888888888888888,\"#fdca26\"],[1.0,\"#f0f921\"]]}],\"mesh3d\":[{\"type\":\"mesh3d\",\"colorbar\":{\"outlinewidth\":0,\"ticks\":\"\"}}],\"scatter\":[{\"fillpattern\":{\"fillmode\":\"overlay\",\"size\":10,\"solidity\":0.2},\"type\":\"scatter\"}],\"parcoords\":[{\"type\":\"parcoords\",\"line\":{\"colorbar\":{\"outlinewidth\":0,\"ticks\":\"\"}}}],\"scatterpolargl\":[{\"type\":\"scatterpolargl\",\"marker\":{\"colorbar\":{\"outlinewidth\":0,\"ticks\":\"\"}}}],\"bar\":[{\"error_x\":{\"color\":\"#2a3f5f\"},\"error_y\":{\"color\":\"#2a3f5f\"},\"marker\":{\"line\":{\"color\":\"#E5ECF6\",\"width\":0.5},\"pattern\":{\"fillmode\":\"overlay\",\"size\":10,\"solidity\":0.2}},\"type\":\"bar\"}],\"scattergeo\":[{\"type\":\"scattergeo\",\"marker\":{\"colorbar\":{\"outlinewidth\":0,\"ticks\":\"\"}}}],\"scatterpolar\":[{\"type\":\"scatterpolar\",\"marker\":{\"colorbar\":{\"outlinewidth\":0,\"ticks\":\"\"}}}],\"histogram\":[{\"marker\":{\"pattern\":{\"fillmode\":\"overlay\",\"size\":10,\"solidity\":0.2}},\"type\":\"histogram\"}],\"scattergl\":[{\"type\":\"scattergl\",\"marker\":{\"colorbar\":{\"outlinewidth\":0,\"ticks\":\"\"}}}],\"scatter3d\":[{\"type\":\"scatter3d\",\"line\":{\"colorbar\":{\"outlinewidth\":0,\"ticks\":\"\"}},\"marker\":{\"colorbar\":{\"outlinewidth\":0,\"ticks\":\"\"}}}],\"scattermapbox\":[{\"type\":\"scattermapbox\",\"marker\":{\"colorbar\":{\"outlinewidth\":0,\"ticks\":\"\"}}}],\"scatterternary\":[{\"type\":\"scatterternary\",\"marker\":{\"colorbar\":{\"outlinewidth\":0,\"ticks\":\"\"}}}],\"scattercarpet\":[{\"type\":\"scattercarpet\",\"marker\":{\"colorbar\":{\"outlinewidth\":0,\"ticks\":\"\"}}}],\"carpet\":[{\"aaxis\":{\"endlinecolor\":\"#2a3f5f\",\"gridcolor\":\"white\",\"linecolor\":\"white\",\"minorgridcolor\":\"white\",\"startlinecolor\":\"#2a3f5f\"},\"baxis\":{\"endlinecolor\":\"#2a3f5f\",\"gridcolor\":\"white\",\"linecolor\":\"white\",\"minorgridcolor\":\"white\",\"startlinecolor\":\"#2a3f5f\"},\"type\":\"carpet\"}],\"table\":[{\"cells\":{\"fill\":{\"color\":\"#EBF0F8\"},\"line\":{\"color\":\"white\"}},\"header\":{\"fill\":{\"color\":\"#C8D4E3\"},\"line\":{\"color\":\"white\"}},\"type\":\"table\"}],\"barpolar\":[{\"marker\":{\"line\":{\"color\":\"#E5ECF6\",\"width\":0.5},\"pattern\":{\"fillmode\":\"overlay\",\"size\":10,\"solidity\":0.2}},\"type\":\"barpolar\"}],\"pie\":[{\"automargin\":true,\"type\":\"pie\"}]},\"layout\":{\"autotypenumbers\":\"strict\",\"colorway\":[\"#636efa\",\"#EF553B\",\"#00cc96\",\"#ab63fa\",\"#FFA15A\",\"#19d3f3\",\"#FF6692\",\"#B6E880\",\"#FF97FF\",\"#FECB52\"],\"font\":{\"color\":\"#2a3f5f\"},\"hovermode\":\"closest\",\"hoverlabel\":{\"align\":\"left\"},\"paper_bgcolor\":\"white\",\"plot_bgcolor\":\"#E5ECF6\",\"polar\":{\"bgcolor\":\"#E5ECF6\",\"angularaxis\":{\"gridcolor\":\"white\",\"linecolor\":\"white\",\"ticks\":\"\"},\"radialaxis\":{\"gridcolor\":\"white\",\"linecolor\":\"white\",\"ticks\":\"\"}},\"ternary\":{\"bgcolor\":\"#E5ECF6\",\"aaxis\":{\"gridcolor\":\"white\",\"linecolor\":\"white\",\"ticks\":\"\"},\"baxis\":{\"gridcolor\":\"white\",\"linecolor\":\"white\",\"ticks\":\"\"},\"caxis\":{\"gridcolor\":\"white\",\"linecolor\":\"white\",\"ticks\":\"\"}},\"coloraxis\":{\"colorbar\":{\"outlinewidth\":0,\"ticks\":\"\"}},\"colorscale\":{\"sequential\":[[0.0,\"#0d0887\"],[0.1111111111111111,\"#46039f\"],[0.2222222222222222,\"#7201a8\"],[0.3333333333333333,\"#9c179e\"],[0.4444444444444444,\"#bd3786\"],[0.5555555555555556,\"#d8576b\"],[0.6666666666666666,\"#ed7953\"],[0.7777777777777778,\"#fb9f3a\"],[0.8888888888888888,\"#fdca26\"],[1.0,\"#f0f921\"]],\"sequentialminus\":[[0.0,\"#0d0887\"],[0.1111111111111111,\"#46039f\"],[0.2222222222222222,\"#7201a8\"],[0.3333333333333333,\"#9c179e\"],[0.4444444444444444,\"#bd3786\"],[0.5555555555555556,\"#d8576b\"],[0.6666666666666666,\"#ed7953\"],[0.7777777777777778,\"#fb9f3a\"],[0.8888888888888888,\"#fdca26\"],[1.0,\"#f0f921\"]],\"diverging\":[[0,\"#8e0152\"],[0.1,\"#c51b7d\"],[0.2,\"#de77ae\"],[0.3,\"#f1b6da\"],[0.4,\"#fde0ef\"],[0.5,\"#f7f7f7\"],[0.6,\"#e6f5d0\"],[0.7,\"#b8e186\"],[0.8,\"#7fbc41\"],[0.9,\"#4d9221\"],[1,\"#276419\"]]},\"xaxis\":{\"gridcolor\":\"white\",\"linecolor\":\"white\",\"ticks\":\"\",\"title\":{\"standoff\":15},\"zerolinecolor\":\"white\",\"automargin\":true,\"zerolinewidth\":2},\"yaxis\":{\"gridcolor\":\"white\",\"linecolor\":\"white\",\"ticks\":\"\",\"title\":{\"standoff\":15},\"zerolinecolor\":\"white\",\"automargin\":true,\"zerolinewidth\":2},\"scene\":{\"xaxis\":{\"backgroundcolor\":\"#E5ECF6\",\"gridcolor\":\"white\",\"linecolor\":\"white\",\"showbackground\":true,\"ticks\":\"\",\"zerolinecolor\":\"white\",\"gridwidth\":2},\"yaxis\":{\"backgroundcolor\":\"#E5ECF6\",\"gridcolor\":\"white\",\"linecolor\":\"white\",\"showbackground\":true,\"ticks\":\"\",\"zerolinecolor\":\"white\",\"gridwidth\":2},\"zaxis\":{\"backgroundcolor\":\"#E5ECF6\",\"gridcolor\":\"white\",\"linecolor\":\"white\",\"showbackground\":true,\"ticks\":\"\",\"zerolinecolor\":\"white\",\"gridwidth\":2}},\"shapedefaults\":{\"line\":{\"color\":\"#2a3f5f\"}},\"annotationdefaults\":{\"arrowcolor\":\"#2a3f5f\",\"arrowhead\":0,\"arrowwidth\":1},\"geo\":{\"bgcolor\":\"white\",\"landcolor\":\"#E5ECF6\",\"subunitcolor\":\"white\",\"showland\":true,\"showlakes\":true,\"lakecolor\":\"white\"},\"title\":{\"x\":0.05},\"mapbox\":{\"style\":\"light\"}}},\"legend\":{\"tracegroupgap\":0},\"title\":{\"text\":\"function Requirment vs. Non-function Requirment\"}},                        {\"responsive\": true}                    ).then(function(){\n",
       "                            \n",
       "var gd = document.getElementById('f6e2ac87-e985-4d90-8d4c-130ef6a1fe22');\n",
       "var x = new MutationObserver(function (mutations, observer) {{\n",
       "        var display = window.getComputedStyle(gd).display;\n",
       "        if (!display || display === 'none') {{\n",
       "            console.log([gd, 'removed!']);\n",
       "            Plotly.purge(gd);\n",
       "            observer.disconnect();\n",
       "        }}\n",
       "}});\n",
       "\n",
       "// Listen for the removal of the full notebook cells\n",
       "var notebookContainer = gd.closest('#notebook-container');\n",
       "if (notebookContainer) {{\n",
       "    x.observe(notebookContainer, {childList: true});\n",
       "}}\n",
       "\n",
       "// Listen for the clearing of the current output cell\n",
       "var outputEl = gd.closest('.output');\n",
       "if (outputEl) {{\n",
       "    x.observe(outputEl, {childList: true});\n",
       "}}\n",
       "\n",
       "                        })                };                });            </script>        </div>"
      ]
     },
     "metadata": {},
     "output_type": "display_data"
    }
   ],
   "source": [
    "fig = px.pie(df,names='True_index',title='function Requirment vs. Non-function Requirment')\n",
    "fig.show()"
   ]
  },
  {
   "cell_type": "code",
   "execution_count": 57,
   "id": "8278798f",
   "metadata": {},
   "outputs": [
    {
     "data": {
      "text/plain": [
       "[Text(0.5, 0, ''), Text(0.5, 1.0, 'Non-function Requirment')]"
      ]
     },
     "execution_count": 57,
     "metadata": {},
     "output_type": "execute_result"
    },
    {
     "data": {
      "image/png": "[encoded data removed]",
      "text/plain": [
       "<Figure size 1500x500 with 2 Axes>"
      ]
     },
     "metadata": {},
     "output_type": "display_data"
    }
   ],
   "source": [
    "import seaborn as sns\n",
    "f, axes=plt.subplots(1, 2, figsize=(15, 5) )\n",
    "f.suptitle(\"Text Sentiment Distribution\")\n",
    "\n",
    "sns.distplot(df[df.True_index==0]['function_senti'], ax=axes[0], kde=False, color='red')\n",
    "axes[0].set(xlabel=None, title='function Requirment')\n",
    "sns.distplot(df[df.True_index==1]['function_senti'], ax=axes[1], kde=False, color='blue')\n",
    "axes[1].set(xlabel=None, title='Non-function Requirment')"
   ]
  },
  {
   "cell_type": "code",
   "execution_count": null,
   "id": "055c0c00",
   "metadata": {},
   "outputs": [],
   "source": []
  }
 ],
 "metadata": {
  "kernelspec": {
   "display_name": "Python 3 (ipykernel)",
   "language": "python",
   "name": "python3"
  },
  "language_info": {
   "codemirror_mode": {
    "name": "ipython",
    "version": 3
   },
   "file_extension": ".py",
   "mimetype": "text/x-python",
   "name": "python",
   "nbconvert_exporter": "python",
   "pygments_lexer": "ipython3",
   "version": "3.9.13"
  }
 },
 "nbformat": 4,
 "nbformat_minor": 5
}
